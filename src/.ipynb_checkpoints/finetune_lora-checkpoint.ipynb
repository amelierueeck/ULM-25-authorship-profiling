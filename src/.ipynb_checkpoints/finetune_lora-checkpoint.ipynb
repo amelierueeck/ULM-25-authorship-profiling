{
 "cells": [
  {
   "cell_type": "code",
   "execution_count": 3,
   "id": "715deb94-e2b7-4080-a288-2b08bfc78b50",
   "metadata": {},
   "outputs": [],
   "source": [
    "import transformers\n",
    "import datasets \n",
    "import peft"
   ]
  },
  {
   "cell_type": "code",
   "execution_count": 4,
   "id": "10056aa6-814d-4528-af4d-e9c18f90fdef",
   "metadata": {},
   "outputs": [],
   "source": [
    "from peft import LoraConfig, get_peft_model, PeftModel\n",
    "from datasets import load_dataset, Dataset, DatasetDict\n",
    "\n",
    "lora_config = LoraConfig(\n",
    "    r=4, # number of the parameters to train.\n",
    "    lora_alpha=1, # magnitude of the weight matrix\n",
    "    target_modules=[\"query\", \"value\"],\n",
    "    lora_dropout=0.05,\n",
    "    bias=\"lora_only\",\n",
    "    task_type=\"SEQ_CLS\" # sequence classification\n",
    ")"
   ]
  },
  {
   "cell_type": "code",
   "execution_count": 6,
   "id": "702863a2-90f2-44b2-b739-3ccd4edca611",
   "metadata": {},
   "outputs": [],
   "source": [
    "from transformers import BertTokenizer, BertModel\n",
    "model_checkpoint = \"google-bert/bert-base-uncased\"\n",
    "tokenizer = BertTokenizer.from_pretrained(model_checkpoint, use_fast=True)\n",
    "foundation_model = BertModel.from_pretrained(model_checkpoint).to(\"cuda\")"
   ]
  },
  {
   "cell_type": "code",
   "execution_count": 16,
   "id": "cb3a8d1d-ca26-407c-bb84-6ad83dbc48c7",
   "metadata": {},
   "outputs": [],
   "source": [
    "import pandas as pd\n",
    "\n",
    "DATA_PATH = \"/home/jovyan/work/ULM-25-authorship-profiling/data/\"\n",
    "\n",
    "df_train = pd.read_csv(DATA_PATH + \"data_train.csv\")\n",
    "df_test = pd.read_csv(DATA_PATH + \"data_test.csv\")\n",
    "df_val = pd.read_csv(DATA_PATH + \"data_val.csv\")"
   ]
  },
  {
   "cell_type": "code",
   "execution_count": 32,
   "id": "8a113dce-7650-4f68-b152-2ad6aed40758",
   "metadata": {},
   "outputs": [],
   "source": [
    "dataset = DatasetDict()\n",
    "dataset['train'] = Dataset.from_pandas(df_train)#.select(range(100))\n",
    "dataset['validation'] = Dataset.from_pandas(df_val)#.select(range(100))\n",
    "dataset['test'] = Dataset.from_pandas(df_test)#.select(range(100))"
   ]
  },
  {
   "cell_type": "code",
   "execution_count": 33,
   "id": "dc42e57b-d9f5-4887-bd7e-83f7177a0e84",
   "metadata": {},
   "outputs": [
    {
     "data": {
      "application/vnd.jupyter.widget-view+json": {
       "model_id": "9826e6a9c4e843d5846fe8f1f802d273",
       "version_major": 2,
       "version_minor": 0
      },
      "text/plain": [
       "Filter:   0%|          | 0/620813 [00:00<?, ? examples/s]"
      ]
     },
     "metadata": {},
     "output_type": "display_data"
    },
    {
     "data": {
      "application/vnd.jupyter.widget-view+json": {
       "model_id": "946fbbc6f1e34a918de48a4ffcda8adf",
       "version_major": 2,
       "version_minor": 0
      },
      "text/plain": [
       "Filter:   0%|          | 0/68980 [00:00<?, ? examples/s]"
      ]
     },
     "metadata": {},
     "output_type": "display_data"
    },
    {
     "data": {
      "application/vnd.jupyter.widget-view+json": {
       "model_id": "ac39e537aa2d414cabf847ef0a36e082",
       "version_major": 2,
       "version_minor": 0
      },
      "text/plain": [
       "Filter:   0%|          | 0/37919 [00:00<?, ? examples/s]"
      ]
     },
     "metadata": {},
     "output_type": "display_data"
    },
    {
     "data": {
      "text/plain": [
       "DatasetDict({\n",
       "    train: Dataset({\n",
       "        features: ['text', 'age', 'gender'],\n",
       "        num_rows: 620812\n",
       "    })\n",
       "    validation: Dataset({\n",
       "        features: ['text', 'age', 'gender'],\n",
       "        num_rows: 68980\n",
       "    })\n",
       "    test: Dataset({\n",
       "        features: ['text', 'age', 'gender'],\n",
       "        num_rows: 37919\n",
       "    })\n",
       "})"
      ]
     },
     "execution_count": 33,
     "metadata": {},
     "output_type": "execute_result"
    }
   ],
   "source": [
    "dataset = dataset.filter(lambda example: \n",
    "                         example[\"text\"] is not None and \n",
    "                         example[\"gender\"] is not None and\n",
    "                         example [\"age\"] is not None)\n",
    "dataset"
   ]
  },
  {
   "cell_type": "code",
   "execution_count": 34,
   "id": "e3fa914d-b611-42d5-8e43-5a869a8219a8",
   "metadata": {},
   "outputs": [],
   "source": [
    "from transformers import AutoTokenizer, AutoModel, PreTrainedModel, PretrainedConfig\n",
    "from sklearn.preprocessing import LabelEncoder\n",
    "import torch\n",
    "import torch.nn as nn\n",
    "from torch.nn import CrossEntropyLoss\n",
    "import json\n",
    "from sklearn.preprocessing import LabelEncoder\n",
    "\n",
    "age_encoder = LabelEncoder()\n",
    "age_encoder.fit(df_train[\"age\"].tolist() + df_val[\"age\"].tolist() + df_test[\"age\"].tolist())\n",
    "num_age_labels = len(age_encoder.classes_)\n",
    "\n",
    "def preprocess_function_dict(examples):\n",
    "    tokenized = tokenizer(\n",
    "        examples['text'],\n",
    "        truncation=True,\n",
    "        padding='max_length',\n",
    "        max_length=512\n",
    "    )\n",
    "\n",
    "    age_labels = age_encoder.transform(examples[\"age\"])\n",
    "    gender_labels = [\n",
    "        {\"male\": 0, \"female\": 1}[label] for label in examples[\"gender\"]\n",
    "    ]\n",
    "\n",
    "    return {\n",
    "        \"input_ids\": tokenized[\"input_ids\"],\n",
    "        \"attention_mask\": tokenized[\"attention_mask\"],\n",
    "        \"age_labels\": age_labels,\n",
    "        \"gender_labels\": gender_labels,\n",
    "    }"
   ]
  },
  {
   "cell_type": "code",
   "execution_count": 35,
   "id": "ed3d3872-208a-49f7-afd2-225f636bb525",
   "metadata": {},
   "outputs": [
    {
     "data": {
      "application/vnd.jupyter.widget-view+json": {
       "model_id": "e1b58e1d7bea48978339359ec3563e67",
       "version_major": 2,
       "version_minor": 0
      },
      "text/plain": [
       "Map:   0%|          | 0/620812 [00:00<?, ? examples/s]"
      ]
     },
     "metadata": {},
     "output_type": "display_data"
    },
    {
     "data": {
      "application/vnd.jupyter.widget-view+json": {
       "model_id": "54f9c6527ebf4fdd8e3ef5cb132ebe75",
       "version_major": 2,
       "version_minor": 0
      },
      "text/plain": [
       "Map:   0%|          | 0/68980 [00:00<?, ? examples/s]"
      ]
     },
     "metadata": {},
     "output_type": "display_data"
    },
    {
     "data": {
      "application/vnd.jupyter.widget-view+json": {
       "model_id": "92fd0ab1269a42bca942cab2651b743c",
       "version_major": 2,
       "version_minor": 0
      },
      "text/plain": [
       "Map:   0%|          | 0/37919 [00:00<?, ? examples/s]"
      ]
     },
     "metadata": {},
     "output_type": "display_data"
    }
   ],
   "source": [
    "tokenized_dataset = dataset.map(\n",
    "    preprocess_function_dict,\n",
    "    batched=True,\n",
    "    remove_columns=['text', 'age', 'gender']\n",
    ")"
   ]
  },
  {
   "cell_type": "code",
   "execution_count": 51,
   "id": "0d011ade-7090-40b2-a5af-a1ebda786a33",
   "metadata": {},
   "outputs": [],
   "source": [
    "class JointClassificationConfig(PretrainedConfig):\n",
    "    def __init__(self, num_age_labels=None, num_gender_labels=None, **kwargs):\n",
    "        super().__init__(**kwargs)\n",
    "        self.num_age_labels = num_age_labels\n",
    "        self.num_gender_labels = num_gender_labels"
   ]
  },
  {
   "cell_type": "code",
   "execution_count": 56,
   "id": "c45c6b1c-4976-4168-8441-dfd04fe8c691",
   "metadata": {},
   "outputs": [],
   "source": [
    "class BertForJointClassification(PreTrainedModel):\n",
    "    config_class = JointClassificationConfig\n",
    "    \n",
    "    def __init__(self, config, model):\n",
    "        super().__init__(config)\n",
    "        self.num_age_labels = config.num_age_labels\n",
    "        self.num_gender_labels = config.num_gender_labels\n",
    "\n",
    "        self.bert = model\n",
    "        self.age_classifier = nn.Linear(config.hidden_size, self.num_age_labels)\n",
    "        self.gender_classifier = nn.Linear(config.hidden_size, self.num_gender_labels)\n",
    "        self.dropout = nn.Dropout(config.hidden_dropout_prob)\n",
    "        \n",
    "        self.age_loss_fct = CrossEntropyLoss()\n",
    "        self.gender_loss_fct = CrossEntropyLoss()\n",
    "        self.alpha_loss = config.alpha\n",
    "        \n",
    "        self.init_weights()\n",
    "    \n",
    "    def forward(\n",
    "        self,\n",
    "        input_ids=None,\n",
    "        attention_mask=None,\n",
    "        token_type_ids=None,\n",
    "        age_labels=None,\n",
    "        gender_labels=None,\n",
    "        **kwargs\n",
    "    ):\n",
    "        # get BERT outputs\n",
    "        outputs = self.bert(\n",
    "            input_ids=input_ids,\n",
    "            attention_mask=attention_mask,\n",
    "            token_type_ids=token_type_ids\n",
    "        )\n",
    "        \n",
    "        # pool outputs to get sequence representation\n",
    "        pooled_output = outputs.last_hidden_state[:, 0]\n",
    "        pooled_output = self.dropout(pooled_output)\n",
    "        \n",
    "        # get logits for each task\n",
    "        age_logits = self.age_classifier(pooled_output)\n",
    "        gender_logits = self.gender_classifier(pooled_output)\n",
    "        output = {\n",
    "            'age_logits': age_logits,\n",
    "            'gender_logits': gender_logits\n",
    "        }\n",
    "        \n",
    "        if not self.training:\n",
    "            age_predictions = torch.argmax(age_logits, dim=-1)\n",
    "            gender_predictions = torch.argmax(gender_logits, dim=-1)\n",
    "            output.update({\n",
    "                'age_predictions': age_predictions,\n",
    "                'gender_predictions': gender_predictions,\n",
    "            })\n",
    "        \n",
    "        # get combined loss\n",
    "        age_loss, gender_loss, total_loss = None, None, None\n",
    "        if age_labels is not None:\n",
    "            age_loss = self.age_loss_fct(age_logits, age_labels)\n",
    "        if gender_labels is not None:\n",
    "            gender_loss = self.gender_loss_fct(gender_logits, gender_labels)\n",
    "        if age_loss is not None and gender_loss is not None:\n",
    "            total_loss = self.alpha_loss * age_loss + (1 - self.alpha_loss) * gender_loss\n",
    "\n",
    "        output.update({\n",
    "            'loss': total_loss,\n",
    "            'age_loss': age_loss,\n",
    "            'gender_loss': gender_loss\n",
    "        })\n",
    "        return output"
   ]
  },
  {
   "cell_type": "code",
   "execution_count": 57,
   "id": "b31c1b07-691a-457b-88f2-59b2d4439839",
   "metadata": {},
   "outputs": [],
   "source": [
    "def setup_dict_model(dataset, model_name=\"bert-base-uncased\"):\n",
    "    config = JointClassificationConfig(\n",
    "        name_or_path=model_name,\n",
    "        num_age_labels=num_age_labels,\n",
    "        num_gender_labels=2,\n",
    "        hidden_size=768,\n",
    "        hidden_dropout_prob=0.1,\n",
    "        alpha=0.5, # weighs the age_loss vs. gender_loss\n",
    "    )\n",
    "    bert = BertForJointClassification(config, foundation_model)\n",
    "    peft_model = get_peft_model(bert, lora_config)\n",
    "    return peft_model, config"
   ]
  },
  {
   "cell_type": "code",
   "execution_count": 58,
   "id": "b368fe62-6d89-4166-ae23-ccc138b9418c",
   "metadata": {},
   "outputs": [
    {
     "data": {
      "text/plain": [
       "BertForJointClassification(\n",
       "  (bert): BertModel(\n",
       "    (embeddings): BertEmbeddings(\n",
       "      (word_embeddings): Embedding(30522, 768, padding_idx=0)\n",
       "      (position_embeddings): Embedding(512, 768)\n",
       "      (token_type_embeddings): Embedding(2, 768)\n",
       "      (LayerNorm): LayerNorm((768,), eps=1e-12, elementwise_affine=True)\n",
       "      (dropout): Dropout(p=0.1, inplace=False)\n",
       "    )\n",
       "    (encoder): BertEncoder(\n",
       "      (layer): ModuleList(\n",
       "        (0-11): 12 x BertLayer(\n",
       "          (attention): BertAttention(\n",
       "            (self): BertSdpaSelfAttention(\n",
       "              (query): Linear(in_features=768, out_features=768, bias=True)\n",
       "              (key): Linear(in_features=768, out_features=768, bias=True)\n",
       "              (value): Linear(in_features=768, out_features=768, bias=True)\n",
       "              (dropout): Dropout(p=0.1, inplace=False)\n",
       "            )\n",
       "            (output): BertSelfOutput(\n",
       "              (dense): Linear(in_features=768, out_features=768, bias=True)\n",
       "              (LayerNorm): LayerNorm((768,), eps=1e-12, elementwise_affine=True)\n",
       "              (dropout): Dropout(p=0.1, inplace=False)\n",
       "            )\n",
       "          )\n",
       "          (intermediate): BertIntermediate(\n",
       "            (dense): Linear(in_features=768, out_features=3072, bias=True)\n",
       "            (intermediate_act_fn): GELUActivation()\n",
       "          )\n",
       "          (output): BertOutput(\n",
       "            (dense): Linear(in_features=3072, out_features=768, bias=True)\n",
       "            (LayerNorm): LayerNorm((768,), eps=1e-12, elementwise_affine=True)\n",
       "            (dropout): Dropout(p=0.1, inplace=False)\n",
       "          )\n",
       "        )\n",
       "      )\n",
       "    )\n",
       "    (pooler): BertPooler(\n",
       "      (dense): Linear(in_features=768, out_features=768, bias=True)\n",
       "      (activation): Tanh()\n",
       "    )\n",
       "  )\n",
       "  (age_classifier): Linear(in_features=768, out_features=26, bias=True)\n",
       "  (gender_classifier): Linear(in_features=768, out_features=2, bias=True)\n",
       "  (dropout): Dropout(p=0.1, inplace=False)\n",
       "  (age_loss_fct): CrossEntropyLoss()\n",
       "  (gender_loss_fct): CrossEntropyLoss()\n",
       ")"
      ]
     },
     "execution_count": 58,
     "metadata": {},
     "output_type": "execute_result"
    }
   ],
   "source": [
    "# optional\n",
    "peft_model.unload()"
   ]
  },
  {
   "cell_type": "code",
   "execution_count": 59,
   "id": "8685989c-03f1-4fac-b453-3642d256707b",
   "metadata": {},
   "outputs": [],
   "source": [
    "peft_model, config = setup_dict_model(dataset)"
   ]
  },
  {
   "cell_type": "code",
   "execution_count": 61,
   "id": "bca6fa20-5e11-476f-ab54-6b65f9bbbd4a",
   "metadata": {},
   "outputs": [],
   "source": [
    "# custom trainer\n",
    "from transformers import Trainer\n",
    "\n",
    "class JointClassificationTrainer(Trainer):\n",
    "    def compute_loss(self, model, inputs, return_outputs=False, **kwargs):\n",
    "        outputs = model(**inputs)\n",
    "        loss = outputs.get('loss') # get the total loss from our output dict\n",
    "        return (loss, outputs) if return_outputs else loss\n",
    "\n",
    "def compute_metrics(eval_pred):\n",
    "    predictions, labels = eval_pred # predictions contain the dict we defined in the forward pass\n",
    "    age_preds = predictions['age_predictions']\n",
    "    gender_preds = predictions['gender_predictions']\n",
    "    age_labels, gender_labels = labels['age_labels'], labels['gender_labels']\n",
    "    \n",
    "    # compute individual & joint accuracies\n",
    "    age_acc = (age_preds == age_labels).mean()\n",
    "    gender_acc = (gender_preds == gender_labels).mean()\n",
    "    joint_acc = np.mean((age_preds == age_labels) & (gender_preds == gender_labels))\n",
    "    return {\n",
    "        \"age_acc\": age_acc, \n",
    "        \"gender_acc\": gender_acc, \n",
    "        \"joint_acc\": joint_acc\n",
    "    }"
   ]
  },
  {
   "cell_type": "code",
   "execution_count": 62,
   "id": "19fcce74-55d9-4739-8a7a-5f5d81b9e589",
   "metadata": {},
   "outputs": [
    {
     "name": "stdout",
     "output_type": "stream",
     "text": [
      "trainable params: 187,420 || all params: 109,672,760 || trainable%: 0.1709\n",
      "None\n"
     ]
    }
   ],
   "source": [
    "from transformers import TrainingArguments, default_data_collator\n",
    "\n",
    "print(peft_model.print_trainable_parameters())\n",
    "\n",
    "training_args = TrainingArguments(\n",
    "    \"bert-lora-for-author-profiling\",\n",
    "    learning_rate=3e-2,\n",
    "    report_to=\"wandb\"\n",
    ")\n",
    "\n",
    "trainer = JointClassificationTrainer(\n",
    "    model=peft_model,\n",
    "    args=training_args,\n",
    "    train_dataset=tokenized_dataset['train'],\n",
    "    eval_dataset=tokenized_dataset['validation'],\n",
    "    data_collator=default_data_collator,\n",
    "    compute_metrics=compute_metrics,\n",
    ")"
   ]
  },
  {
   "cell_type": "code",
   "execution_count": 63,
   "id": "4e83e7b2-6915-4b4b-8dfa-8bd23e360e1b",
   "metadata": {
    "scrolled": true
   },
   "outputs": [
    {
     "data": {
      "text/html": [
       "\n",
       "    <div>\n",
       "      \n",
       "      <progress value='5377' max='232806' style='width:300px; height:20px; vertical-align: middle;'></progress>\n",
       "      [  5377/232806 07:10 < 5:03:44, 12.48 it/s, Epoch 0.07/3]\n",
       "    </div>\n",
       "    <table border=\"1\" class=\"dataframe\">\n",
       "  <thead>\n",
       " <tr style=\"text-align: left;\">\n",
       "      <th>Step</th>\n",
       "      <th>Training Loss</th>\n",
       "    </tr>\n",
       "  </thead>\n",
       "  <tbody>\n",
       "    <tr>\n",
       "      <td>500</td>\n",
       "      <td>2.412500</td>\n",
       "    </tr>\n",
       "    <tr>\n",
       "      <td>1000</td>\n",
       "      <td>2.579700</td>\n",
       "    </tr>\n",
       "    <tr>\n",
       "      <td>1500</td>\n",
       "      <td>2.028700</td>\n",
       "    </tr>\n",
       "    <tr>\n",
       "      <td>2000</td>\n",
       "      <td>3.249100</td>\n",
       "    </tr>\n",
       "    <tr>\n",
       "      <td>2500</td>\n",
       "      <td>3.046800</td>\n",
       "    </tr>\n",
       "    <tr>\n",
       "      <td>3000</td>\n",
       "      <td>3.081300</td>\n",
       "    </tr>\n",
       "    <tr>\n",
       "      <td>3500</td>\n",
       "      <td>2.323100</td>\n",
       "    </tr>\n",
       "    <tr>\n",
       "      <td>4000</td>\n",
       "      <td>2.008100</td>\n",
       "    </tr>\n",
       "    <tr>\n",
       "      <td>4500</td>\n",
       "      <td>7.067600</td>\n",
       "    </tr>\n",
       "    <tr>\n",
       "      <td>5000</td>\n",
       "      <td>5.284100</td>\n",
       "    </tr>\n",
       "  </tbody>\n",
       "</table><p>"
      ],
      "text/plain": [
       "<IPython.core.display.HTML object>"
      ]
     },
     "metadata": {},
     "output_type": "display_data"
    },
    {
     "ename": "KeyboardInterrupt",
     "evalue": "",
     "output_type": "error",
     "traceback": [
      "\u001b[0;31m---------------------------------------------------------------------------\u001b[0m",
      "\u001b[0;31mKeyboardInterrupt\u001b[0m                         Traceback (most recent call last)",
      "Cell \u001b[0;32mIn[63], line 1\u001b[0m\n\u001b[0;32m----> 1\u001b[0m \u001b[43mtrainer\u001b[49m\u001b[38;5;241;43m.\u001b[39;49m\u001b[43mtrain\u001b[49m\u001b[43m(\u001b[49m\u001b[43m)\u001b[49m\n",
      "File \u001b[0;32m/opt/conda/lib/python3.12/site-packages/transformers/trainer.py:2238\u001b[0m, in \u001b[0;36mTrainer.train\u001b[0;34m(self, resume_from_checkpoint, trial, ignore_keys_for_eval, **kwargs)\u001b[0m\n\u001b[1;32m   2236\u001b[0m         hf_hub_utils\u001b[38;5;241m.\u001b[39menable_progress_bars()\n\u001b[1;32m   2237\u001b[0m \u001b[38;5;28;01melse\u001b[39;00m:\n\u001b[0;32m-> 2238\u001b[0m     \u001b[38;5;28;01mreturn\u001b[39;00m \u001b[43minner_training_loop\u001b[49m\u001b[43m(\u001b[49m\n\u001b[1;32m   2239\u001b[0m \u001b[43m        \u001b[49m\u001b[43margs\u001b[49m\u001b[38;5;241;43m=\u001b[39;49m\u001b[43margs\u001b[49m\u001b[43m,\u001b[49m\n\u001b[1;32m   2240\u001b[0m \u001b[43m        \u001b[49m\u001b[43mresume_from_checkpoint\u001b[49m\u001b[38;5;241;43m=\u001b[39;49m\u001b[43mresume_from_checkpoint\u001b[49m\u001b[43m,\u001b[49m\n\u001b[1;32m   2241\u001b[0m \u001b[43m        \u001b[49m\u001b[43mtrial\u001b[49m\u001b[38;5;241;43m=\u001b[39;49m\u001b[43mtrial\u001b[49m\u001b[43m,\u001b[49m\n\u001b[1;32m   2242\u001b[0m \u001b[43m        \u001b[49m\u001b[43mignore_keys_for_eval\u001b[49m\u001b[38;5;241;43m=\u001b[39;49m\u001b[43mignore_keys_for_eval\u001b[49m\u001b[43m,\u001b[49m\n\u001b[1;32m   2243\u001b[0m \u001b[43m    \u001b[49m\u001b[43m)\u001b[49m\n",
      "File \u001b[0;32m/opt/conda/lib/python3.12/site-packages/transformers/trainer.py:2587\u001b[0m, in \u001b[0;36mTrainer._inner_training_loop\u001b[0;34m(self, batch_size, args, resume_from_checkpoint, trial, ignore_keys_for_eval)\u001b[0m\n\u001b[1;32m   2581\u001b[0m \u001b[38;5;28;01mwith\u001b[39;00m context():\n\u001b[1;32m   2582\u001b[0m     tr_loss_step \u001b[38;5;241m=\u001b[39m \u001b[38;5;28mself\u001b[39m\u001b[38;5;241m.\u001b[39mtraining_step(model, inputs, num_items_in_batch)\n\u001b[1;32m   2584\u001b[0m \u001b[38;5;28;01mif\u001b[39;00m (\n\u001b[1;32m   2585\u001b[0m     args\u001b[38;5;241m.\u001b[39mlogging_nan_inf_filter\n\u001b[1;32m   2586\u001b[0m     \u001b[38;5;129;01mand\u001b[39;00m \u001b[38;5;129;01mnot\u001b[39;00m is_torch_xla_available()\n\u001b[0;32m-> 2587\u001b[0m     \u001b[38;5;129;01mand\u001b[39;00m (torch\u001b[38;5;241m.\u001b[39misnan(tr_loss_step) \u001b[38;5;129;01mor\u001b[39;00m \u001b[43mtorch\u001b[49m\u001b[38;5;241;43m.\u001b[39;49m\u001b[43misinf\u001b[49m\u001b[43m(\u001b[49m\u001b[43mtr_loss_step\u001b[49m\u001b[43m)\u001b[49m)\n\u001b[1;32m   2588\u001b[0m ):\n\u001b[1;32m   2589\u001b[0m     \u001b[38;5;66;03m# if loss is nan or inf simply add the average of previous logged losses\u001b[39;00m\n\u001b[1;32m   2590\u001b[0m     tr_loss \u001b[38;5;241m=\u001b[39m tr_loss \u001b[38;5;241m+\u001b[39m tr_loss \u001b[38;5;241m/\u001b[39m (\u001b[38;5;241m1\u001b[39m \u001b[38;5;241m+\u001b[39m \u001b[38;5;28mself\u001b[39m\u001b[38;5;241m.\u001b[39mstate\u001b[38;5;241m.\u001b[39mglobal_step \u001b[38;5;241m-\u001b[39m \u001b[38;5;28mself\u001b[39m\u001b[38;5;241m.\u001b[39m_globalstep_last_logged)\n\u001b[1;32m   2591\u001b[0m \u001b[38;5;28;01melse\u001b[39;00m:\n",
      "\u001b[0;31mKeyboardInterrupt\u001b[0m: "
     ]
    }
   ],
   "source": [
    "trainer.train()"
   ]
  },
  {
   "cell_type": "code",
   "execution_count": null,
   "id": "8bf208b9-6145-42d8-9540-52fb7c99f3b0",
   "metadata": {},
   "outputs": [],
   "source": []
  }
 ],
 "metadata": {
  "kernelspec": {
   "display_name": "Python 3 (ipykernel)",
   "language": "python",
   "name": "python3"
  },
  "language_info": {
   "codemirror_mode": {
    "name": "ipython",
    "version": 3
   },
   "file_extension": ".py",
   "mimetype": "text/x-python",
   "name": "python",
   "nbconvert_exporter": "python",
   "pygments_lexer": "ipython3",
   "version": "3.12.9"
  }
 },
 "nbformat": 4,
 "nbformat_minor": 5
}
