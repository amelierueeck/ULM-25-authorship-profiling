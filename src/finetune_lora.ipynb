{
 "cells": [
  {
   "cell_type": "code",
   "execution_count": null,
   "id": "78732590-6905-4d4d-8191-3e3a8064f938",
   "metadata": {},
   "outputs": [],
   "source": [
    "%pip install transformers datasets peft wandb"
   ]
  },
  {
   "cell_type": "code",
   "execution_count": 1,
   "id": "715deb94-e2b7-4080-a288-2b08bfc78b50",
   "metadata": {},
   "outputs": [],
   "source": [
    "import transformers\n",
    "import datasets \n",
    "import peft"
   ]
  },
  {
   "cell_type": "code",
   "execution_count": 2,
   "id": "10056aa6-814d-4528-af4d-e9c18f90fdef",
   "metadata": {},
   "outputs": [],
   "source": [
    "from peft import LoraConfig, get_peft_model, PeftModel\n",
    "from datasets import load_dataset, Dataset, DatasetDict\n",
    "\n",
    "lora_config = LoraConfig(\n",
    "    r=4, # number of the parameters to train.\n",
    "    lora_alpha=1, # magnitude of the weight matrix\n",
    "    target_modules=[\"query\", \"value\"],\n",
    "    lora_dropout=0.05,\n",
    "    bias=\"lora_only\",\n",
    "    task_type=\"SEQ_CLS\" # sequence classification\n",
    ")"
   ]
  },
  {
   "cell_type": "code",
   "execution_count": 3,
   "id": "702863a2-90f2-44b2-b739-3ccd4edca611",
   "metadata": {},
   "outputs": [
    {
     "data": {
      "application/vnd.jupyter.widget-view+json": {
       "model_id": "34810fcf7ca14d52ab3b10b82bf0d087",
       "version_major": 2,
       "version_minor": 0
      },
      "text/plain": [
       "tokenizer_config.json:   0%|          | 0.00/48.0 [00:00<?, ?B/s]"
      ]
     },
     "metadata": {},
     "output_type": "display_data"
    },
    {
     "data": {
      "application/vnd.jupyter.widget-view+json": {
       "model_id": "2999718d2c544ee1b499b1247c8799bb",
       "version_major": 2,
       "version_minor": 0
      },
      "text/plain": [
       "vocab.txt: 0.00B [00:00, ?B/s]"
      ]
     },
     "metadata": {},
     "output_type": "display_data"
    },
    {
     "data": {
      "application/vnd.jupyter.widget-view+json": {
       "model_id": "cabdf1a325d741938b8f86a1360c0051",
       "version_major": 2,
       "version_minor": 0
      },
      "text/plain": [
       "tokenizer.json: 0.00B [00:00, ?B/s]"
      ]
     },
     "metadata": {},
     "output_type": "display_data"
    },
    {
     "data": {
      "application/vnd.jupyter.widget-view+json": {
       "model_id": "4d05dd8f52fd4e37be288c56d83f1d74",
       "version_major": 2,
       "version_minor": 0
      },
      "text/plain": [
       "config.json:   0%|          | 0.00/570 [00:00<?, ?B/s]"
      ]
     },
     "metadata": {},
     "output_type": "display_data"
    },
    {
     "data": {
      "application/vnd.jupyter.widget-view+json": {
       "model_id": "ba394e2391744edb83c72036dfe25e47",
       "version_major": 2,
       "version_minor": 0
      },
      "text/plain": [
       "model.safetensors:   0%|          | 0.00/440M [00:00<?, ?B/s]"
      ]
     },
     "metadata": {},
     "output_type": "display_data"
    }
   ],
   "source": [
    "from transformers import BertTokenizer, BertModel\n",
    "model_checkpoint = \"google-bert/bert-base-uncased\"\n",
    "tokenizer = BertTokenizer.from_pretrained(model_checkpoint, use_fast=True)\n",
    "foundation_model = BertModel.from_pretrained(model_checkpoint)"
   ]
  },
  {
   "cell_type": "code",
   "execution_count": 4,
   "id": "cb3a8d1d-ca26-407c-bb84-6ad83dbc48c7",
   "metadata": {},
   "outputs": [],
   "source": [
    "import pandas as pd\n",
    "\n",
    "DATA_PATH = \"/home/jovyan/work/ULM-25-authorship-profiling/data/\"\n",
    "\n",
    "df_train = pd.read_csv(DATA_PATH + \"data_train.csv\")\n",
    "df_test = pd.read_csv(DATA_PATH + \"data_test.csv\")\n",
    "df_val = pd.read_csv(DATA_PATH + \"data_val.csv\")"
   ]
  },
  {
   "cell_type": "code",
   "execution_count": 5,
   "id": "8a113dce-7650-4f68-b152-2ad6aed40758",
   "metadata": {},
   "outputs": [],
   "source": [
    "dataset = DatasetDict()\n",
    "dataset['train'] = Dataset.from_pandas(df_train)\n",
    "dataset['validation'] = Dataset.from_pandas(df_val)\n",
    "dataset['test'] = Dataset.from_pandas(df_test)"
   ]
  },
  {
   "cell_type": "code",
   "execution_count": 6,
   "id": "dc42e57b-d9f5-4887-bd7e-83f7177a0e84",
   "metadata": {},
   "outputs": [
    {
     "data": {
      "application/vnd.jupyter.widget-view+json": {
       "model_id": "8f46239494874b399ec356fe356f7e86",
       "version_major": 2,
       "version_minor": 0
      },
      "text/plain": [
       "Filter:   0%|          | 0/620813 [00:00<?, ? examples/s]"
      ]
     },
     "metadata": {},
     "output_type": "display_data"
    },
    {
     "data": {
      "application/vnd.jupyter.widget-view+json": {
       "model_id": "7efebe55d9114ec28f1fafaa0368f55b",
       "version_major": 2,
       "version_minor": 0
      },
      "text/plain": [
       "Filter:   0%|          | 0/68980 [00:00<?, ? examples/s]"
      ]
     },
     "metadata": {},
     "output_type": "display_data"
    },
    {
     "data": {
      "application/vnd.jupyter.widget-view+json": {
       "model_id": "310d0c0f710d41f28df8946c46a1abe7",
       "version_major": 2,
       "version_minor": 0
      },
      "text/plain": [
       "Filter:   0%|          | 0/37919 [00:00<?, ? examples/s]"
      ]
     },
     "metadata": {},
     "output_type": "display_data"
    },
    {
     "data": {
      "text/plain": [
       "DatasetDict({\n",
       "    train: Dataset({\n",
       "        features: ['text', 'age', 'gender'],\n",
       "        num_rows: 620812\n",
       "    })\n",
       "    validation: Dataset({\n",
       "        features: ['text', 'age', 'gender'],\n",
       "        num_rows: 68980\n",
       "    })\n",
       "    test: Dataset({\n",
       "        features: ['text', 'age', 'gender'],\n",
       "        num_rows: 37919\n",
       "    })\n",
       "})"
      ]
     },
     "execution_count": 6,
     "metadata": {},
     "output_type": "execute_result"
    }
   ],
   "source": [
    "dataset = dataset.filter(lambda example: \n",
    "                         example[\"text\"] is not None and \n",
    "                         example[\"gender\"] is not None and\n",
    "                         example [\"age\"] is not None)\n",
    "dataset"
   ]
  },
  {
   "cell_type": "code",
   "execution_count": null,
   "id": "e3fa914d-b611-42d5-8e43-5a869a8219a8",
   "metadata": {},
   "outputs": [],
   "source": [
    "from transformers import AutoTokenizer, AutoModel, PreTrainedModel, PretrainedConfig\n",
    "from sklearn.preprocessing import LabelEncoder\n",
    "import torch\n",
    "import torch.nn as nn\n",
    "import numpy as np\n",
    "\n",
    "\n",
    "def preprocess_function(examples):\n",
    "    tokenized = tokenizer(\n",
    "        examples['text'],\n",
    "        truncation=True,\n",
    "        padding='max_length',\n",
    "        max_length=512\n",
    "    )\n",
    "    gender_labels = [\n",
    "        {\"male\": 0, \"female\": 1}[label] for label in examples[\"gender\"]\n",
    "    ]\n",
    "    return {\n",
    "        \"input_ids\": tokenized[\"input_ids\"],\n",
    "        \"attention_mask\": tokenized[\"attention_mask\"],\n",
    "        \"age_labels\": age_labels,\n",
    "        \"gender_labels\": gender_labels,\n",
    "        \"labels\": np.stack([age_labels, gender_labels], axis=1)\n",
    "    }"
   ]
  },
  {
   "cell_type": "code",
   "execution_count": null,
   "id": "ed3d3872-208a-49f7-afd2-225f636bb525",
   "metadata": {
    "scrolled": true
   },
   "outputs": [],
   "source": [
    "tokenized_dataset = dataset.map(\n",
    "    preprocess_function,\n",
    "    batched=True,\n",
    "    remove_columns=['text', 'age', 'gender']\n",
    ")"
   ]
  },
  {
   "cell_type": "code",
   "execution_count": null,
   "id": "cc8302aa-1620-46f6-bc49-ccfe20d77151",
   "metadata": {},
   "outputs": [],
   "source": [
    "tokenized_dataset"
   ]
  },
  {
   "cell_type": "code",
   "execution_count": null,
   "id": "ce8604c1-deb4-4ed2-a9d5-1d0f14a9ddbb",
   "metadata": {},
   "outputs": [],
   "source": [
    "from huggingface_hub import login\n",
    "login()"
   ]
  },
  {
   "cell_type": "code",
   "execution_count": null,
   "id": "58310c36-ce11-4632-9193-32184e1b0e2c",
   "metadata": {},
   "outputs": [],
   "source": [
    "tokenized_dataset.push_to_hub(\n",
    "    \"KonradBRG/ULM-Profiling-tokenized\",\n",
    "    private=False,  # or True if you want it private\n",
    "    commit_message=\"Upload tokenized ULM profiling dataset\"\n",
    ")"
   ]
  },
  {
   "cell_type": "code",
   "execution_count": null,
   "id": "0d011ade-7090-40b2-a5af-a1ebda786a33",
   "metadata": {},
   "outputs": [],
   "source": [
    "class JointClassificationConfig(PretrainedConfig):\n",
    "    def __init__(self, num_age_labels=None, num_gender_labels=None, loss_alpha=0.5, **kwargs):\n",
    "        super().__init__(**kwargs)\n",
    "        self.num_age_labels = num_age_labels\n",
    "        self.num_gender_labels = num_gender_labels"
   ]
  },
  {
   "cell_type": "code",
   "execution_count": null,
   "id": "c45c6b1c-4976-4168-8441-dfd04fe8c691",
   "metadata": {},
   "outputs": [],
   "source": [
    "from transformers.modeling_outputs import SequenceClassifierOutput\n",
    "from torch.nn import CrossEntropyLoss\n",
    "\n",
    "class BertForJointClassification(PreTrainedModel):\n",
    "    config_class = JointClassificationConfig\n",
    "    \n",
    "    def __init__(self, config, model):\n",
    "        super().__init__(config)\n",
    "        self.num_age_labels = config.num_age_labels\n",
    "        self.num_gender_labels = config.num_gender_labels\n",
    "\n",
    "        self.bert = model\n",
    "        self.age_classifier = nn.Linear(config.hidden_size, self.num_age_labels)\n",
    "        self.gender_classifier = nn.Linear(config.hidden_size, self.num_gender_labels)\n",
    "        self.dropout = nn.Dropout(config.hidden_dropout_prob)\n",
    "        self.age_loss_fct = CrossEntropyLoss()\n",
    "        self.gender_loss_fct = CrossEntropyLoss()\n",
    "        \n",
    "        self.init_weights()\n",
    "\n",
    "    def forward(\n",
    "        self,\n",
    "        input_ids=None,\n",
    "        attention_mask=None,\n",
    "        token_type_ids=None,\n",
    "        age_labels=None,\n",
    "        gender_labels=None,\n",
    "        **kwargs\n",
    "    ):\n",
    "        # get BERT outputs\n",
    "        x = self.bert(\n",
    "            input_ids=input_ids,\n",
    "            attention_mask=attention_mask,\n",
    "            token_type_ids=token_type_ids\n",
    "        )\n",
    "        # pool outputs to get sequence representation\n",
    "        x = x.last_hidden_state[:, 0]\n",
    "        x = self.dropout(x)\n",
    "        # get logits from task head\n",
    "        age_logits = self.age_classifier(x)\n",
    "        gender_logits = self.gender_classifier(x)\n",
    "        loss_age = self.age_loss_fct(age_logits, age_labels)\n",
    "        loss_gender = self.gender_loss_fct(gender_logits, gender_labels)\n",
    "        return SequenceClassifierOutput(loss={\"loss_age\": loss_age, \"loss_gender\": loss_gender}, \n",
    "                                        logits=torch.cat([age_logits, gender_logits], dim=1))"
   ]
  },
  {
   "cell_type": "code",
   "execution_count": null,
   "id": "b31c1b07-691a-457b-88f2-59b2d4439839",
   "metadata": {},
   "outputs": [],
   "source": [
    "def setup_model(dataset, model_name=\"bert-base-uncased\", peft=True):        \n",
    "    config = JointClassificationConfig(\n",
    "        name_or_path=model_name,\n",
    "        num_age_labels=num_age_labels,\n",
    "        num_gender_labels=2,\n",
    "        hidden_size=768,\n",
    "        hidden_dropout_prob=0.1,\n",
    "    )\n",
    "    bert = BertForJointClassification(config, foundation_model)\n",
    "    if peft:\n",
    "        bert = get_peft_model(bert, lora_config)\n",
    "    return bert, config, dataset"
   ]
  },
  {
   "cell_type": "code",
   "execution_count": null,
   "id": "b368fe62-6d89-4166-ae23-ccc138b9418c",
   "metadata": {},
   "outputs": [],
   "source": [
    "# optional\n",
    "peft_model.unload()"
   ]
  },
  {
   "cell_type": "code",
   "execution_count": null,
   "id": "8685989c-03f1-4fac-b453-3642d256707b",
   "metadata": {},
   "outputs": [],
   "source": [
    "peft_model, config, data = setup_model(tokenized_dataset, model_checkpoint)"
   ]
  },
  {
   "cell_type": "code",
   "execution_count": null,
   "id": "bca6fa20-5e11-476f-ab54-6b65f9bbbd4a",
   "metadata": {},
   "outputs": [],
   "source": [
    "def compute_metrics(eval_pred):\n",
    "    logits = eval_pred.predictions\n",
    "    age_labels, gender_labels = eval_pred.label_ids\n",
    "\n",
    "    age_logits = logits[:, :num_age_labels]\n",
    "    gender_logits = logits[:, num_age_labels:]\n",
    "\n",
    "    age_preds = np.argmax(age_logits, axis=-1)\n",
    "    gender_preds = np.argmax(gender_logits, axis=-1)\n",
    "\n",
    "    age_acc = (age_preds == age_labels).mean()\n",
    "    gender_acc = (gender_preds == gender_labels).mean()\n",
    "    joint_acc = np.mean((age_preds == age_labels) & (gender_preds == gender_labels))\n",
    "\n",
    "    return {\"age_acc\": age_acc, \"gender_acc\": gender_acc, \"joint_acc\": joint_acc}"
   ]
  },
  {
   "cell_type": "code",
   "execution_count": null,
   "id": "a993361f-bc73-475b-8b4c-3fca37200ab5",
   "metadata": {},
   "outputs": [],
   "source": [
    "from typing import Dict, Union, Any\n",
    "from transformers import Trainer, TrainingArguments, default_data_collator\n",
    "\n",
    "class TrainerWithCustomLoss(Trainer):\n",
    "    \n",
    "    def __init__(self, age_alpha: float = 0.5, scale_losses = True, **kwargs):\n",
    "        super().__init__(**kwargs)\n",
    "        self.age_alpha = age_alpha\n",
    "        self.gender_alpha = 1 - self.age_alpha\n",
    "        self._scale_losses = scale_losses\n",
    "    \n",
    "    def training_step(\n",
    "        self, model: nn.Module, inputs: Dict[str, Union[torch.Tensor, Any]], num_items_in_batch=None\n",
    "    ) -> torch.Tensor:\n",
    "        model.train()\n",
    "        if hasattr(self.optimizer, \"train\") and callable(self.optimizer.train):\n",
    "            self.optimizer.train()\n",
    "        inputs = self._prepare_inputs(inputs)\n",
    "        \n",
    "        with self.compute_loss_context_manager():\n",
    "            loss = self.compute_loss(model, inputs)\n",
    "        self.accelerator.backward(loss)\n",
    "        \n",
    "        # Finally we need to normalize the loss for reporting\n",
    "        if num_items_in_batch is None:\n",
    "            return loss.detach() / self.args.gradient_accumulation_steps\n",
    "        return loss.detach()\n",
    "\n",
    "    def compute_loss(self, model, inputs, return_outputs=False, num_items_in_batch=None):\n",
    "        outputs = model(**inputs)\n",
    "        loss_age, loss_gender = outputs.loss[\"loss_age\"], outputs.loss[\"loss_gender\"]\n",
    "        loss = self.age_alpha * loss_age + self.gender_alpha * loss_gender\n",
    "        \n",
    "        if return_outputs:\n",
    "            return loss, outputs\n",
    "        return loss"
   ]
  },
  {
   "cell_type": "code",
   "execution_count": null,
   "id": "064d4bc2-659b-4e5b-b954-0e1dcb6739aa",
   "metadata": {},
   "outputs": [],
   "source": [
    "del trainer"
   ]
  },
  {
   "cell_type": "code",
   "execution_count": null,
   "id": "19fcce74-55d9-4739-8a7a-5f5d81b9e589",
   "metadata": {},
   "outputs": [],
   "source": [
    "from transformers import Trainer, TrainingArguments, default_data_collator\n",
    "\n",
    "print(peft_model.print_trainable_parameters())\n",
    "log_frequency = 1000\n",
    "\n",
    "training_args = TrainingArguments(\n",
    "    \"bert-lora-for-author-profiling\",\n",
    "    per_device_train_batch_size=32,  # Set explicitly for better control\n",
    "    gradient_accumulation_steps=2,   # Effective batch size = 32 * 2 = 64\n",
    "    num_train_epochs=3,\n",
    "    # Speed optimizations\n",
    "    dataloader_num_workers=4,        # Parallel data loading\n",
    "    dataloader_pin_memory=True,      # Faster GPU transfer\n",
    "    bf16=True,                       # Mixed precision (if you have newer GPU)\n",
    "    # fp16=True,                     # Use this instead if bf16 not supported\n",
    "    # Reduce overhead\n",
    "    eval_strategy=\"steps\",           # Less frequent evaluation\n",
    "    eval_steps=500,                  # Adjust based on dataset size\n",
    "    logging_strategy=\"steps\",\n",
    "    logging_steps=log_frequency,\n",
    "    save_strategy=\"no\",\n",
    "    learning_rate=5e-5,\n",
    "    report_to=\"wandb\"\n",
    ")\n",
    "\n",
    "trainer = TrainerWithCustomLoss(\n",
    "    age_alpha=0.7,\n",
    "    model=peft_model,\n",
    "    args=training_args,\n",
    "    train_dataset=data['train'].with_format(\"torch\"),\n",
    "    eval_dataset=data['validation'].with_format(\"torch\"),\n",
    "    data_collator=default_data_collator,\n",
    "    compute_metrics=compute_metrics,\n",
    ")"
   ]
  },
  {
   "cell_type": "code",
   "execution_count": null,
   "id": "4e83e7b2-6915-4b4b-8dfa-8bd23e360e1b",
   "metadata": {
    "scrolled": true
   },
   "outputs": [],
   "source": [
    "trainer.train()"
   ]
  },
  {
   "cell_type": "code",
   "execution_count": null,
   "id": "1d53dba2-cbf4-4b98-b9ff-cdc0260d112a",
   "metadata": {},
   "outputs": [],
   "source": [
    "trainer.predict(data[\"test\"])"
   ]
  },
  {
   "cell_type": "code",
   "execution_count": null,
   "id": "dd34786c-4926-4414-8b92-03a3b4ef91cd",
   "metadata": {},
   "outputs": [],
   "source": [
    "import wandb\n",
    "wandb.finish()\n",
    "sweep_config = {\n",
    "    \"name\": \"LoRA-For-Author-Profiling\",\n",
    "    \"method\": \"bayes\",\n",
    "    \"metric\": {\n",
    "        \"name\": \"Joint Acc\",\n",
    "        \"goal\": \"maximize\"\n",
    "    },\n",
    "    \"parameters\": {\n",
    "        \"learning_rate\": {\n",
    "            \"min\": 0.00005,\n",
    "            \"max\": 0.0001\n",
    "        },\n",
    "        \"age_alpha\": {\n",
    "            \"min\": 0.4,\n",
    "            \"max\": 0.9\n",
    "        },\n",
    "        \"per_device_train_batch_size\": {\n",
    "            \"values\": [16, 32, 64]\n",
    "        },\n",
    "        \"num_train_epochs\": {\n",
    "            \"values\": [2, 3, 4]\n",
    "        },\n",
    "        \"peft_r_value\": {\n",
    "            \"values\": [2, 4, 8]\n",
    "        },\n",
    "    }\n",
    "}\n",
    "\n",
    "# Create the sweep\n",
    "sweep_id = wandb.sweep(sweep_config, project=\"ULM-Author-Profiling\")"
   ]
  },
  {
   "cell_type": "code",
   "execution_count": null,
   "id": "e0cda984-791e-4f17-a346-2bdf735211e5",
   "metadata": {},
   "outputs": [],
   "source": [
    "def train(config=None):\n",
    "    # Initialize wandb run with the config from sweep\n",
    "    with wandb.init(config=config):\n",
    "        peft_r_value = wandb.config.peft_r_value\n",
    "        learning_rate = wandb.config.learning_rate\n",
    "        age_alpha = wandb.config.age_alpha\n",
    "        batch_size = wandb.config.per_device_train_batch_size\n",
    "        epochs = wandb.config.num_train_epochs\n",
    "\n",
    "        lora_config = LoraConfig(\n",
    "            r=peft_r_value, # number of the parameters to train.\n",
    "            lora_alpha=1, # magnitude of the weight matrix\n",
    "            target_modules=[\"query\", \"value\"],\n",
    "            lora_dropout=0.05,\n",
    "            bias=\"lora_only\",\n",
    "            task_type=\"SEQ_CLS\" # sequence classification\n",
    "        )\n",
    "        peft_model, config, data = setup_model(tokenized_dataset, model_checkpoint)\n",
    "\n",
    "        # Set up training arguments\n",
    "        training_args = TrainingArguments(\n",
    "            output_dir=\"bert-lora-for-author-profiling\",\n",
    "            per_device_train_batch_size=batch_size,\n",
    "            gradient_accumulation_steps=2,\n",
    "            num_train_epochs=epochs,\n",
    "            # Speed optimizations\n",
    "            dataloader_num_workers=4,    \n",
    "            dataloader_pin_memory=True,\n",
    "            bf16=True,\n",
    "            eval_strategy=\"steps\",         \n",
    "            eval_steps=1000,                  \n",
    "            logging_strategy=\"steps\",\n",
    "            logging_steps=1000,\n",
    "            save_strategy=\"no\",\n",
    "            learning_rate=learning_rate,\n",
    "            report_to=\"wandb\"\n",
    "        )\n",
    "        \n",
    "        trainer = TrainerWithCustomLoss(\n",
    "            age_alpha=age_alpha,\n",
    "            model=peft_model,\n",
    "            args=training_args,\n",
    "            train_dataset=data['train'].with_format(\"torch\"),  # Make sure data is defined\n",
    "            eval_dataset=data['validation'].with_format(\"torch\"),\n",
    "            data_collator=default_data_collator,\n",
    "            compute_metrics=compute_metrics,\n",
    "        )\n",
    "        try:\n",
    "            trainer.train()\n",
    "            eval_results = trainer.evaluate()\n",
    "            wandb.log(eval_results)\n",
    "            print(f\"Training completed! Final Joint Acc: {eval_results.get('eval_Joint Acc', 'N/A')}\")\n",
    "        finally:\n",
    "            # Ensure cleanup happens even if training fails\n",
    "            peft_model.unload()\n",
    "            del trainer\n",
    "            del peft_model\n",
    "            torch.cuda.empty_cache()  # Clear GPU memory"
   ]
  },
  {
   "cell_type": "code",
   "execution_count": null,
   "id": "1d36ec29-ec06-490e-aa10-e69ab197b1e0",
   "metadata": {},
   "outputs": [],
   "source": [
    "wandb.agent(sweep_id, train, count=10)  # Will run 10 different hyperparameter combinations"
   ]
  },
  {
   "cell_type": "code",
   "execution_count": null,
   "id": "e1b19f45-e639-48ae-a445-ec8afe17cad5",
   "metadata": {},
   "outputs": [],
   "source": [
    "trainer.push_to_hub()"
   ]
  },
  {
   "cell_type": "code",
   "execution_count": null,
   "id": "ef35ace4-fc07-4ac8-8779-f93e1928a2b9",
   "metadata": {},
   "outputs": [],
   "source": []
  }
 ],
 "metadata": {
  "kernelspec": {
   "display_name": "Python 3 (ipykernel)",
   "language": "python",
   "name": "python3"
  },
  "language_info": {
   "codemirror_mode": {
    "name": "ipython",
    "version": 3
   },
   "file_extension": ".py",
   "mimetype": "text/x-python",
   "name": "python",
   "nbconvert_exporter": "python",
   "pygments_lexer": "ipython3",
   "version": "3.12.10"
  }
 },
 "nbformat": 4,
 "nbformat_minor": 5
}
