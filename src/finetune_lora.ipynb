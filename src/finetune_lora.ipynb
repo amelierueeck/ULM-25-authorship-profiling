{
 "cells": [
  {
   "cell_type": "code",
   "execution_count": null,
   "id": "78732590-6905-4d4d-8191-3e3a8064f938",
   "metadata": {},
   "outputs": [],
   "source": [
    "%pip install transformers datasets peft wandb"
   ]
  },
  {
   "cell_type": "code",
   "execution_count": 1,
   "id": "715deb94-e2b7-4080-a288-2b08bfc78b50",
   "metadata": {},
   "outputs": [],
   "source": [
    "import transformers\n",
    "import datasets \n",
    "import peft"
   ]
  },
  {
   "cell_type": "code",
   "execution_count": 2,
   "id": "10056aa6-814d-4528-af4d-e9c18f90fdef",
   "metadata": {},
   "outputs": [],
   "source": [
    "from peft import LoraConfig, get_peft_model, PeftModel\n",
    "from datasets import load_dataset, Dataset, DatasetDict\n",
    "\n",
    "lora_config = LoraConfig(\n",
    "    r=4, # number of the parameters to train.\n",
    "    lora_alpha=1, # magnitude of the weight matrix\n",
    "    target_modules=[\"query\", \"value\"],\n",
    "    lora_dropout=0.05,\n",
    "    bias=\"lora_only\",\n",
    "    task_type=\"SEQ_CLS\" # sequence classification\n",
    ")"
   ]
  },
  {
   "cell_type": "code",
   "execution_count": 3,
   "id": "702863a2-90f2-44b2-b739-3ccd4edca611",
   "metadata": {},
   "outputs": [
    {
     "data": {
      "application/vnd.jupyter.widget-view+json": {
       "model_id": "916cd6a18989413398a9467ba690423b",
       "version_major": 2,
       "version_minor": 0
      },
      "text/plain": [
       "tokenizer_config.json:   0%|          | 0.00/48.0 [00:00<?, ?B/s]"
      ]
     },
     "metadata": {},
     "output_type": "display_data"
    },
    {
     "data": {
      "application/vnd.jupyter.widget-view+json": {
       "model_id": "c3d8f7a7c0594ac9bc932e24725f3f76",
       "version_major": 2,
       "version_minor": 0
      },
      "text/plain": [
       "vocab.txt: 0.00B [00:00, ?B/s]"
      ]
     },
     "metadata": {},
     "output_type": "display_data"
    },
    {
     "data": {
      "application/vnd.jupyter.widget-view+json": {
       "model_id": "e3d7cf5202854aa0b549aebff62ae871",
       "version_major": 2,
       "version_minor": 0
      },
      "text/plain": [
       "tokenizer.json: 0.00B [00:00, ?B/s]"
      ]
     },
     "metadata": {},
     "output_type": "display_data"
    },
    {
     "data": {
      "application/vnd.jupyter.widget-view+json": {
       "model_id": "6644e863e4c9493ba0981aefdbff361c",
       "version_major": 2,
       "version_minor": 0
      },
      "text/plain": [
       "config.json:   0%|          | 0.00/570 [00:00<?, ?B/s]"
      ]
     },
     "metadata": {},
     "output_type": "display_data"
    },
    {
     "data": {
      "application/vnd.jupyter.widget-view+json": {
       "model_id": "cec1dfb6c4f94cd395e5933d8fa83ea0",
       "version_major": 2,
       "version_minor": 0
      },
      "text/plain": [
       "model.safetensors:   0%|          | 0.00/440M [00:00<?, ?B/s]"
      ]
     },
     "metadata": {},
     "output_type": "display_data"
    }
   ],
   "source": [
    "from transformers import BertTokenizer, BertModel\n",
    "model_checkpoint = \"google-bert/bert-base-uncased\"\n",
    "tokenizer = BertTokenizer.from_pretrained(model_checkpoint, use_fast=True)\n",
    "foundation_model = BertModel.from_pretrained(model_checkpoint)"
   ]
  },
  {
   "cell_type": "code",
   "execution_count": 4,
   "id": "cb3a8d1d-ca26-407c-bb84-6ad83dbc48c7",
   "metadata": {},
   "outputs": [],
   "source": [
    "import pandas as pd\n",
    "\n",
    "DATA_PATH = \"/home/jovyan/work/ULM-25-authorship-profiling/data/\"\n",
    "\n",
    "df_train = pd.read_csv(DATA_PATH + \"data_train.csv\")\n",
    "df_test = pd.read_csv(DATA_PATH + \"data_test.csv\")\n",
    "df_val = pd.read_csv(DATA_PATH + \"data_val.csv\")"
   ]
  },
  {
   "cell_type": "code",
   "execution_count": 5,
   "id": "8a113dce-7650-4f68-b152-2ad6aed40758",
   "metadata": {},
   "outputs": [],
   "source": [
    "dataset = DatasetDict()\n",
    "dataset['train'] = Dataset.from_pandas(df_train)\n",
    "dataset['validation'] = Dataset.from_pandas(df_val)\n",
    "dataset['test'] = Dataset.from_pandas(df_test)"
   ]
  },
  {
   "cell_type": "code",
   "execution_count": 6,
   "id": "dc42e57b-d9f5-4887-bd7e-83f7177a0e84",
   "metadata": {},
   "outputs": [
    {
     "data": {
      "application/vnd.jupyter.widget-view+json": {
       "model_id": "30a35cee41514015925c96a6afd32f28",
       "version_major": 2,
       "version_minor": 0
      },
      "text/plain": [
       "Filter:   0%|          | 0/620813 [00:00<?, ? examples/s]"
      ]
     },
     "metadata": {},
     "output_type": "display_data"
    },
    {
     "data": {
      "application/vnd.jupyter.widget-view+json": {
       "model_id": "e4f39c97d32f4f679d3a7f58ed7a8caf",
       "version_major": 2,
       "version_minor": 0
      },
      "text/plain": [
       "Filter:   0%|          | 0/68980 [00:00<?, ? examples/s]"
      ]
     },
     "metadata": {},
     "output_type": "display_data"
    },
    {
     "data": {
      "application/vnd.jupyter.widget-view+json": {
       "model_id": "6ec706a397c84f698c6bb4d44df83322",
       "version_major": 2,
       "version_minor": 0
      },
      "text/plain": [
       "Filter:   0%|          | 0/37919 [00:00<?, ? examples/s]"
      ]
     },
     "metadata": {},
     "output_type": "display_data"
    },
    {
     "data": {
      "text/plain": [
       "DatasetDict({\n",
       "    train: Dataset({\n",
       "        features: ['text', 'age', 'gender'],\n",
       "        num_rows: 620812\n",
       "    })\n",
       "    validation: Dataset({\n",
       "        features: ['text', 'age', 'gender'],\n",
       "        num_rows: 68980\n",
       "    })\n",
       "    test: Dataset({\n",
       "        features: ['text', 'age', 'gender'],\n",
       "        num_rows: 37919\n",
       "    })\n",
       "})"
      ]
     },
     "execution_count": 6,
     "metadata": {},
     "output_type": "execute_result"
    }
   ],
   "source": [
    "dataset = dataset.filter(lambda example: \n",
    "                         example[\"text\"] is not None and \n",
    "                         example[\"gender\"] is not None and\n",
    "                         example [\"age\"] is not None)\n",
    "dataset"
   ]
  },
  {
   "cell_type": "code",
   "execution_count": 7,
   "id": "e3fa914d-b611-42d5-8e43-5a869a8219a8",
   "metadata": {},
   "outputs": [],
   "source": [
    "from transformers import AutoTokenizer, AutoModel, PreTrainedModel, PretrainedConfig\n",
    "from sklearn.preprocessing import LabelEncoder\n",
    "import torch\n",
    "import torch.nn as nn\n",
    "import numpy as np\n",
    "\n",
    "age_encoder = LabelEncoder()\n",
    "age_encoder.fit(df_train[\"age\"].tolist() + df_val[\"age\"].tolist() + df_test[\"age\"].tolist())\n",
    "num_age_labels = len(age_encoder.classes_)\n",
    "\n",
    "BINS = [0, 18, 23, 27, 33, 37, 43, 47, 53, 57, 100]\n",
    "def preprocess_function_dict(examples):\n",
    "    tokenized = tokenizer(\n",
    "        examples['text'],\n",
    "        truncation=True,\n",
    "        padding='max_length',\n",
    "        max_length=512\n",
    "    )\n",
    "    # age_labels = age_encoder.transform(examples[\"age\"])\n",
    "    age_labels = [\n",
    "            int(np.digitize(item, BINS) - 1)\n",
    "            for item in examples[\"age\"]\n",
    "        ]\n",
    "    gender_labels = [\n",
    "        {\"male\": 0, \"female\": 1}[label] for label in examples[\"gender\"]\n",
    "    ]\n",
    "    return {\n",
    "        \"input_ids\": tokenized[\"input_ids\"],\n",
    "        \"attention_mask\": tokenized[\"attention_mask\"],\n",
    "        \"age_labels\": age_labels,\n",
    "        \"gender_labels\": gender_labels,\n",
    "        \"labels\": np.stack([age_labels, gender_labels], axis=1)\n",
    "    }"
   ]
  },
  {
   "cell_type": "code",
   "execution_count": 8,
   "id": "ed3d3872-208a-49f7-afd2-225f636bb525",
   "metadata": {
    "scrolled": true
   },
   "outputs": [
    {
     "data": {
      "application/vnd.jupyter.widget-view+json": {
       "model_id": "a5893b0c98904a1892d7f877f327a3d4",
       "version_major": 2,
       "version_minor": 0
      },
      "text/plain": [
       "Map:   0%|          | 0/620812 [00:00<?, ? examples/s]"
      ]
     },
     "metadata": {},
     "output_type": "display_data"
    },
    {
     "data": {
      "application/vnd.jupyter.widget-view+json": {
       "model_id": "db95b97698f44f2b8145f72c81a17817",
       "version_major": 2,
       "version_minor": 0
      },
      "text/plain": [
       "Map:   0%|          | 0/68980 [00:00<?, ? examples/s]"
      ]
     },
     "metadata": {},
     "output_type": "display_data"
    },
    {
     "data": {
      "application/vnd.jupyter.widget-view+json": {
       "model_id": "d1a21afe1e624d9892d16267bb4ca271",
       "version_major": 2,
       "version_minor": 0
      },
      "text/plain": [
       "Map:   0%|          | 0/37919 [00:00<?, ? examples/s]"
      ]
     },
     "metadata": {},
     "output_type": "display_data"
    }
   ],
   "source": [
    "tokenized_dataset = dataset.map(\n",
    "    preprocess_function_dict,\n",
    "    batched=True,\n",
    "    remove_columns=['text', 'age', 'gender']\n",
    ")"
   ]
  },
  {
   "cell_type": "code",
   "execution_count": 14,
   "id": "cc8302aa-1620-46f6-bc49-ccfe20d77151",
   "metadata": {},
   "outputs": [
    {
     "data": {
      "text/plain": [
       "DatasetDict({\n",
       "    train: Dataset({\n",
       "        features: ['input_ids', 'attention_mask', 'age_labels', 'gender_labels', 'labels'],\n",
       "        num_rows: 620812\n",
       "    })\n",
       "    validation: Dataset({\n",
       "        features: ['input_ids', 'attention_mask', 'age_labels', 'gender_labels', 'labels'],\n",
       "        num_rows: 68980\n",
       "    })\n",
       "    test: Dataset({\n",
       "        features: ['input_ids', 'attention_mask', 'age_labels', 'gender_labels', 'labels'],\n",
       "        num_rows: 37919\n",
       "    })\n",
       "})"
      ]
     },
     "execution_count": 14,
     "metadata": {},
     "output_type": "execute_result"
    }
   ],
   "source": [
    "tokenized_dataset"
   ]
  },
  {
   "cell_type": "code",
   "execution_count": 23,
   "id": "ce8604c1-deb4-4ed2-a9d5-1d0f14a9ddbb",
   "metadata": {},
   "outputs": [
    {
     "data": {
      "application/vnd.jupyter.widget-view+json": {
       "model_id": "35037659674840afbcd3832afb070d66",
       "version_major": 2,
       "version_minor": 0
      },
      "text/plain": [
       "VBox(children=(HTML(value='<center> <img\\nsrc=https://huggingface.co/front/assets/huggingface_logo-noborder.sv…"
      ]
     },
     "metadata": {},
     "output_type": "display_data"
    }
   ],
   "source": [
    "from huggingface_hub import login\n",
    "login()"
   ]
  },
  {
   "cell_type": "code",
   "execution_count": 24,
   "id": "58310c36-ce11-4632-9193-32184e1b0e2c",
   "metadata": {},
   "outputs": [
    {
     "data": {
      "application/vnd.jupyter.widget-view+json": {
       "model_id": "84d2aa3e492f43d1a89eff90f49399dd",
       "version_major": 2,
       "version_minor": 0
      },
      "text/plain": [
       "Uploading the dataset shards:   0%|          | 0/4 [00:00<?, ?it/s]"
      ]
     },
     "metadata": {},
     "output_type": "display_data"
    },
    {
     "data": {
      "application/vnd.jupyter.widget-view+json": {
       "model_id": "f507908175754fbf98a39e710092804d",
       "version_major": 2,
       "version_minor": 0
      },
      "text/plain": [
       "Creating parquet from Arrow format:   0%|          | 0/156 [00:00<?, ?ba/s]"
      ]
     },
     "metadata": {},
     "output_type": "display_data"
    },
    {
     "data": {
      "application/vnd.jupyter.widget-view+json": {
       "model_id": "d5bd40967cc64548b752ff76e2e498fe",
       "version_major": 2,
       "version_minor": 0
      },
      "text/plain": [
       "Creating parquet from Arrow format:   0%|          | 0/156 [00:00<?, ?ba/s]"
      ]
     },
     "metadata": {},
     "output_type": "display_data"
    },
    {
     "data": {
      "application/vnd.jupyter.widget-view+json": {
       "model_id": "42b5a4ad32a34f0bba270fee60d55bc9",
       "version_major": 2,
       "version_minor": 0
      },
      "text/plain": [
       "Creating parquet from Arrow format:   0%|          | 0/156 [00:00<?, ?ba/s]"
      ]
     },
     "metadata": {},
     "output_type": "display_data"
    },
    {
     "data": {
      "application/vnd.jupyter.widget-view+json": {
       "model_id": "88dd12de14f348258e9a7414cb8fa522",
       "version_major": 2,
       "version_minor": 0
      },
      "text/plain": [
       "Creating parquet from Arrow format:   0%|          | 0/156 [00:00<?, ?ba/s]"
      ]
     },
     "metadata": {},
     "output_type": "display_data"
    },
    {
     "data": {
      "application/vnd.jupyter.widget-view+json": {
       "model_id": "034ef212eee4477988fbd1d1eadf6d21",
       "version_major": 2,
       "version_minor": 0
      },
      "text/plain": [
       "Uploading the dataset shards:   0%|          | 0/1 [00:00<?, ?it/s]"
      ]
     },
     "metadata": {},
     "output_type": "display_data"
    },
    {
     "data": {
      "application/vnd.jupyter.widget-view+json": {
       "model_id": "9a47472f0f5a472ab71c426a6d3d04ba",
       "version_major": 2,
       "version_minor": 0
      },
      "text/plain": [
       "Creating parquet from Arrow format:   0%|          | 0/69 [00:00<?, ?ba/s]"
      ]
     },
     "metadata": {},
     "output_type": "display_data"
    },
    {
     "data": {
      "application/vnd.jupyter.widget-view+json": {
       "model_id": "3b842e825ed74c5ebdeb52f23be4f3d0",
       "version_major": 2,
       "version_minor": 0
      },
      "text/plain": [
       "Uploading the dataset shards:   0%|          | 0/1 [00:00<?, ?it/s]"
      ]
     },
     "metadata": {},
     "output_type": "display_data"
    },
    {
     "data": {
      "application/vnd.jupyter.widget-view+json": {
       "model_id": "6fd4717dd5354309ad9f2ec12f2ed663",
       "version_major": 2,
       "version_minor": 0
      },
      "text/plain": [
       "Creating parquet from Arrow format:   0%|          | 0/38 [00:00<?, ?ba/s]"
      ]
     },
     "metadata": {},
     "output_type": "display_data"
    }
   ],
   "source": [
    "data_dir = \"ULM-25-authorship-profiling/data/\"\n",
    "for split in [\"train\", \"validation\", \"test\"]:\n",
    "    tokenized_dataset[split].push_to_hub(f\"KonradBRG/ULM-Profling-tokneized-{split}\")"
   ]
  },
  {
   "cell_type": "code",
   "execution_count": 25,
   "id": "0d011ade-7090-40b2-a5af-a1ebda786a33",
   "metadata": {},
   "outputs": [],
   "source": [
    "class JointClassificationConfig(PretrainedConfig):\n",
    "    def __init__(self, num_age_labels=None, num_gender_labels=None, loss_alpha=0.5, **kwargs):\n",
    "        super().__init__(**kwargs)\n",
    "        self.num_age_labels = num_age_labels\n",
    "        self.num_gender_labels = num_gender_labels"
   ]
  },
  {
   "cell_type": "code",
   "execution_count": 26,
   "id": "c45c6b1c-4976-4168-8441-dfd04fe8c691",
   "metadata": {},
   "outputs": [],
   "source": [
    "from transformers.modeling_outputs import SequenceClassifierOutput\n",
    "from torch.nn import CrossEntropyLoss\n",
    "\n",
    "class BertForJointClassification(PreTrainedModel):\n",
    "    config_class = JointClassificationConfig\n",
    "    \n",
    "    def __init__(self, config, model):\n",
    "        super().__init__(config)\n",
    "        self.num_age_labels = config.num_age_labels\n",
    "        self.num_gender_labels = config.num_gender_labels\n",
    "\n",
    "        self.bert = model\n",
    "        self.age_classifier = nn.Linear(config.hidden_size, self.num_age_labels)\n",
    "        self.gender_classifier = nn.Linear(config.hidden_size, self.num_gender_labels)\n",
    "        self.dropout = nn.Dropout(config.hidden_dropout_prob)\n",
    "        self.age_loss_fct = CrossEntropyLoss()\n",
    "        self.gender_loss_fct = CrossEntropyLoss()\n",
    "        \n",
    "        self.init_weights()\n",
    "\n",
    "    def forward(\n",
    "        self,\n",
    "        input_ids=None,\n",
    "        attention_mask=None,\n",
    "        token_type_ids=None,\n",
    "        age_labels=None,\n",
    "        gender_labels=None,\n",
    "        **kwargs\n",
    "    ):\n",
    "        # get BERT outputs\n",
    "        x = self.bert(\n",
    "            input_ids=input_ids,\n",
    "            attention_mask=attention_mask,\n",
    "            token_type_ids=token_type_ids\n",
    "        )\n",
    "        # pool outputs to get sequence representation\n",
    "        x = x.last_hidden_state[:, 0]\n",
    "        x = self.dropout(x)\n",
    "        # get logits from task head\n",
    "        age_logits = self.age_classifier(x)\n",
    "        gender_logits = self.gender_classifier(x)\n",
    "        loss_age = self.age_loss_fct(age_logits, age_labels)\n",
    "        loss_gender = self.gender_loss_fct(gender_logits, gender_labels)\n",
    "        return SequenceClassifierOutput(loss={\"loss_age\": loss_age, \"loss_gender\": loss_gender}, \n",
    "                                        logits=torch.cat([age_logits, gender_logits], dim=1))"
   ]
  },
  {
   "cell_type": "code",
   "execution_count": 27,
   "id": "b31c1b07-691a-457b-88f2-59b2d4439839",
   "metadata": {},
   "outputs": [],
   "source": [
    "def setup_model(dataset, model_name=\"bert-base-uncased\", peft=True):        \n",
    "    config = JointClassificationConfig(\n",
    "        name_or_path=model_name,\n",
    "        num_age_labels=num_age_labels,\n",
    "        num_gender_labels=2,\n",
    "        hidden_size=768,\n",
    "        hidden_dropout_prob=0.1,\n",
    "    )\n",
    "    bert = BertForJointClassification(config, foundation_model)\n",
    "    if peft:\n",
    "        bert = get_peft_model(bert, lora_config)\n",
    "    return bert, config, dataset"
   ]
  },
  {
   "cell_type": "code",
   "execution_count": null,
   "id": "b368fe62-6d89-4166-ae23-ccc138b9418c",
   "metadata": {},
   "outputs": [],
   "source": [
    "# optional\n",
    "peft_model.unload()"
   ]
  },
  {
   "cell_type": "code",
   "execution_count": 28,
   "id": "8685989c-03f1-4fac-b453-3642d256707b",
   "metadata": {},
   "outputs": [],
   "source": [
    "peft_model, config, data = setup_model(tokenized_dataset, model_checkpoint)"
   ]
  },
  {
   "cell_type": "code",
   "execution_count": 29,
   "id": "bca6fa20-5e11-476f-ab54-6b65f9bbbd4a",
   "metadata": {},
   "outputs": [],
   "source": [
    "def compute_metrics(eval_pred):\n",
    "    logits = eval_pred.predictions\n",
    "    age_labels, gender_labels = eval_pred.label_ids\n",
    "\n",
    "    age_logits = logits[:, :num_age_labels]\n",
    "    gender_logits = logits[:, num_age_labels:]\n",
    "\n",
    "    age_preds = np.argmax(age_logits, axis=-1)\n",
    "    gender_preds = np.argmax(gender_logits, axis=-1)\n",
    "\n",
    "    age_acc = (age_preds == age_labels).mean()\n",
    "    gender_acc = (gender_preds == gender_labels).mean()\n",
    "    joint_acc = np.mean((age_preds == age_labels) & (gender_preds == gender_labels))\n",
    "\n",
    "    return {\"age_acc\": age_acc, \"gender_acc\": gender_acc, \"joint_acc\": joint_acc}"
   ]
  },
  {
   "cell_type": "code",
   "execution_count": 30,
   "id": "a993361f-bc73-475b-8b4c-3fca37200ab5",
   "metadata": {},
   "outputs": [],
   "source": [
    "from typing import Dict, Union, Any\n",
    "from transformers import Trainer, TrainingArguments, default_data_collator\n",
    "\n",
    "class TrainerWithCustomLoss(Trainer):\n",
    "    \n",
    "    def __init__(self, age_alpha: float = 0.5, scale_losses = True, **kwargs):\n",
    "        super().__init__(**kwargs)\n",
    "        self.age_alpha = age_alpha\n",
    "        self.gender_alpha = 1 - self.age_alpha\n",
    "        self._scale_losses = scale_losses\n",
    "    \n",
    "    def training_step(\n",
    "        self, model: nn.Module, inputs: Dict[str, Union[torch.Tensor, Any]], num_items_in_batch=None\n",
    "    ) -> torch.Tensor:\n",
    "        model.train()\n",
    "        if hasattr(self.optimizer, \"train\") and callable(self.optimizer.train):\n",
    "            self.optimizer.train()\n",
    "        inputs = self._prepare_inputs(inputs)\n",
    "        \n",
    "        with self.compute_loss_context_manager():\n",
    "            loss = self.compute_loss(model, inputs)\n",
    "        self.accelerator.backward(loss)\n",
    "        \n",
    "        # Finally we need to normalize the loss for reporting\n",
    "        if num_items_in_batch is None:\n",
    "            return loss.detach() / self.args.gradient_accumulation_steps\n",
    "        return loss.detach()\n",
    "\n",
    "    def compute_loss(self, model, inputs, return_outputs=False, num_items_in_batch=8):\n",
    "        outputs = model(**inputs)\n",
    "        loss_age, loss_gender = outputs.loss[\"loss_age\"], outputs.loss[\"loss_gender\"]\n",
    "        if self._scale_losses:\n",
    "            loss_age = loss_age / num_items_in_batch\n",
    "            loss_gender = loss_gender / num_items_in_batch\n",
    "        loss = self.age_alpha * loss_age + self.gender_alpha * loss_gender\n",
    "        if return_outputs:\n",
    "            return loss, outputs\n",
    "        return loss"
   ]
  },
  {
   "cell_type": "code",
   "execution_count": 35,
   "id": "19fcce74-55d9-4739-8a7a-5f5d81b9e589",
   "metadata": {},
   "outputs": [
    {
     "name": "stdout",
     "output_type": "stream",
     "text": [
      "trainable params: 187,420 || all params: 109,672,760 || trainable%: 0.1709\n",
      "None\n"
     ]
    }
   ],
   "source": [
    "from transformers import Trainer, TrainingArguments, default_data_collator\n",
    "\n",
    "print(peft_model.print_trainable_parameters())\n",
    "log_frequency = 1000\n",
    "\n",
    "training_args = TrainingArguments(\n",
    "    \"bert-lora-for-author-profiling\",\n",
    "    auto_find_batch_size=True,  # Good, but try setting manually if you know your limits\n",
    "    per_device_train_batch_size=32,  # Set explicitly for better control\n",
    "    gradient_accumulation_steps=2,   # Effective batch size = 32 * 2 = 64\n",
    "    num_train_epochs=3,\n",
    "    # Speed optimizations\n",
    "    dataloader_num_workers=4,        # Parallel data loading\n",
    "    dataloader_pin_memory=True,      # Faster GPU transfer\n",
    "    bf16=True,                       # Mixed precision (if you have newer GPU)\n",
    "    # fp16=True,                     # Use this instead if bf16 not supported\n",
    "    # Reduce overhead\n",
    "    eval_strategy=\"steps\",           # Less frequent evaluation\n",
    "    eval_steps=500,                  # Adjust based on dataset size\n",
    "    logging_strategy=\"steps\",\n",
    "    logging_steps=log_frequency,\n",
    "    save_strategy=\"no\",\n",
    "    learning_rate=5e-5,\n",
    "    report_to=\"wandb\"\n",
    ")\n",
    "\n",
    "trainer = TrainerWithCustomLoss(\n",
    "    model=peft_model,\n",
    "    args=training_args,\n",
    "    train_dataset=data['train'].with_format(\"torch\"),\n",
    "    eval_dataset=data['validation'].with_format(\"torch\"),\n",
    "    data_collator=default_data_collator,\n",
    "    compute_metrics=compute_metrics,\n",
    ")"
   ]
  },
  {
   "cell_type": "code",
   "execution_count": null,
   "id": "4e83e7b2-6915-4b4b-8dfa-8bd23e360e1b",
   "metadata": {
    "scrolled": true
   },
   "outputs": [
    {
     "data": {
      "text/html": [
       "\n",
       "    <div>\n",
       "      \n",
       "      <progress value='28001' max='29103' style='width:300px; height:20px; vertical-align: middle;'></progress>\n",
       "      [28001/29103 2:58:48 < 07:02, 2.61 it/s, Epoch 2.89/3]\n",
       "    </div>\n",
       "    <table border=\"1\" class=\"dataframe\">\n",
       "  <thead>\n",
       " <tr style=\"text-align: left;\">\n",
       "      <th>Step</th>\n",
       "      <th>Training Loss</th>\n",
       "      <th>Validation Loss</th>\n",
       "      <th>Age Acc</th>\n",
       "      <th>Gender Acc</th>\n",
       "      <th>Joint Acc</th>\n",
       "    </tr>\n",
       "  </thead>\n",
       "  <tbody>\n",
       "    <tr>\n",
       "      <td>500</td>\n",
       "      <td>No log</td>\n",
       "      <td>0.126343</td>\n",
       "      <td>0.492969</td>\n",
       "      <td>0.606567</td>\n",
       "      <td>0.298028</td>\n",
       "    </tr>\n",
       "    <tr>\n",
       "      <td>1000</td>\n",
       "      <td>0.131700</td>\n",
       "      <td>0.122194</td>\n",
       "      <td>0.507915</td>\n",
       "      <td>0.625761</td>\n",
       "      <td>0.317063</td>\n",
       "    </tr>\n",
       "    <tr>\n",
       "      <td>1500</td>\n",
       "      <td>0.131700</td>\n",
       "      <td>0.119875</td>\n",
       "      <td>0.519397</td>\n",
       "      <td>0.635909</td>\n",
       "      <td>0.330792</td>\n",
       "    </tr>\n",
       "    <tr>\n",
       "      <td>2000</td>\n",
       "      <td>0.121000</td>\n",
       "      <td>0.117728</td>\n",
       "      <td>0.533662</td>\n",
       "      <td>0.643795</td>\n",
       "      <td>0.343650</td>\n",
       "    </tr>\n",
       "    <tr>\n",
       "      <td>2500</td>\n",
       "      <td>0.121000</td>\n",
       "      <td>0.116287</td>\n",
       "      <td>0.543259</td>\n",
       "      <td>0.649058</td>\n",
       "      <td>0.354146</td>\n",
       "    </tr>\n",
       "    <tr>\n",
       "      <td>3000</td>\n",
       "      <td>0.117400</td>\n",
       "      <td>0.115036</td>\n",
       "      <td>0.548347</td>\n",
       "      <td>0.653421</td>\n",
       "      <td>0.360032</td>\n",
       "    </tr>\n",
       "    <tr>\n",
       "      <td>3500</td>\n",
       "      <td>0.117400</td>\n",
       "      <td>0.114194</td>\n",
       "      <td>0.552131</td>\n",
       "      <td>0.658321</td>\n",
       "      <td>0.366845</td>\n",
       "    </tr>\n",
       "    <tr>\n",
       "      <td>4000</td>\n",
       "      <td>0.115700</td>\n",
       "      <td>0.113532</td>\n",
       "      <td>0.555146</td>\n",
       "      <td>0.659785</td>\n",
       "      <td>0.370325</td>\n",
       "    </tr>\n",
       "    <tr>\n",
       "      <td>4500</td>\n",
       "      <td>0.115700</td>\n",
       "      <td>0.113043</td>\n",
       "      <td>0.557973</td>\n",
       "      <td>0.662569</td>\n",
       "      <td>0.373891</td>\n",
       "    </tr>\n",
       "    <tr>\n",
       "      <td>5000</td>\n",
       "      <td>0.114800</td>\n",
       "      <td>0.112546</td>\n",
       "      <td>0.558930</td>\n",
       "      <td>0.663410</td>\n",
       "      <td>0.375384</td>\n",
       "    </tr>\n",
       "    <tr>\n",
       "      <td>5500</td>\n",
       "      <td>0.114800</td>\n",
       "      <td>0.112089</td>\n",
       "      <td>0.562250</td>\n",
       "      <td>0.666961</td>\n",
       "      <td>0.379356</td>\n",
       "    </tr>\n",
       "    <tr>\n",
       "      <td>6000</td>\n",
       "      <td>0.113000</td>\n",
       "      <td>0.111819</td>\n",
       "      <td>0.561656</td>\n",
       "      <td>0.667628</td>\n",
       "      <td>0.379385</td>\n",
       "    </tr>\n",
       "    <tr>\n",
       "      <td>6500</td>\n",
       "      <td>0.113000</td>\n",
       "      <td>0.111547</td>\n",
       "      <td>0.564671</td>\n",
       "      <td>0.667309</td>\n",
       "      <td>0.380864</td>\n",
       "    </tr>\n",
       "    <tr>\n",
       "      <td>7000</td>\n",
       "      <td>0.112500</td>\n",
       "      <td>0.111173</td>\n",
       "      <td>0.565903</td>\n",
       "      <td>0.670702</td>\n",
       "      <td>0.383879</td>\n",
       "    </tr>\n",
       "    <tr>\n",
       "      <td>7500</td>\n",
       "      <td>0.112500</td>\n",
       "      <td>0.111120</td>\n",
       "      <td>0.566599</td>\n",
       "      <td>0.670919</td>\n",
       "      <td>0.384488</td>\n",
       "    </tr>\n",
       "    <tr>\n",
       "      <td>8000</td>\n",
       "      <td>0.112700</td>\n",
       "      <td>0.110598</td>\n",
       "      <td>0.568643</td>\n",
       "      <td>0.673558</td>\n",
       "      <td>0.387344</td>\n",
       "    </tr>\n",
       "    <tr>\n",
       "      <td>8500</td>\n",
       "      <td>0.112700</td>\n",
       "      <td>0.110852</td>\n",
       "      <td>0.569571</td>\n",
       "      <td>0.669745</td>\n",
       "      <td>0.386735</td>\n",
       "    </tr>\n",
       "    <tr>\n",
       "      <td>9000</td>\n",
       "      <td>0.111200</td>\n",
       "      <td>0.110236</td>\n",
       "      <td>0.570049</td>\n",
       "      <td>0.674514</td>\n",
       "      <td>0.388040</td>\n",
       "    </tr>\n",
       "    <tr>\n",
       "      <td>9500</td>\n",
       "      <td>0.111200</td>\n",
       "      <td>0.110260</td>\n",
       "      <td>0.570687</td>\n",
       "      <td>0.674268</td>\n",
       "      <td>0.390128</td>\n",
       "    </tr>\n",
       "    <tr>\n",
       "      <td>10000</td>\n",
       "      <td>0.110500</td>\n",
       "      <td>0.110007</td>\n",
       "      <td>0.571499</td>\n",
       "      <td>0.675123</td>\n",
       "      <td>0.390881</td>\n",
       "    </tr>\n",
       "    <tr>\n",
       "      <td>10500</td>\n",
       "      <td>0.110500</td>\n",
       "      <td>0.109670</td>\n",
       "      <td>0.572282</td>\n",
       "      <td>0.677385</td>\n",
       "      <td>0.392839</td>\n",
       "    </tr>\n",
       "    <tr>\n",
       "      <td>11000</td>\n",
       "      <td>0.110700</td>\n",
       "      <td>0.109691</td>\n",
       "      <td>0.573326</td>\n",
       "      <td>0.676283</td>\n",
       "      <td>0.392853</td>\n",
       "    </tr>\n",
       "    <tr>\n",
       "      <td>11500</td>\n",
       "      <td>0.110700</td>\n",
       "      <td>0.109516</td>\n",
       "      <td>0.573630</td>\n",
       "      <td>0.676964</td>\n",
       "      <td>0.394332</td>\n",
       "    </tr>\n",
       "    <tr>\n",
       "      <td>12000</td>\n",
       "      <td>0.111100</td>\n",
       "      <td>0.109322</td>\n",
       "      <td>0.575210</td>\n",
       "      <td>0.678965</td>\n",
       "      <td>0.395665</td>\n",
       "    </tr>\n",
       "    <tr>\n",
       "      <td>12500</td>\n",
       "      <td>0.111100</td>\n",
       "      <td>0.109192</td>\n",
       "      <td>0.574978</td>\n",
       "      <td>0.678066</td>\n",
       "      <td>0.394868</td>\n",
       "    </tr>\n",
       "    <tr>\n",
       "      <td>13000</td>\n",
       "      <td>0.110200</td>\n",
       "      <td>0.109018</td>\n",
       "      <td>0.575645</td>\n",
       "      <td>0.678950</td>\n",
       "      <td>0.396158</td>\n",
       "    </tr>\n",
       "    <tr>\n",
       "      <td>13500</td>\n",
       "      <td>0.110200</td>\n",
       "      <td>0.109088</td>\n",
       "      <td>0.574935</td>\n",
       "      <td>0.678037</td>\n",
       "      <td>0.396071</td>\n",
       "    </tr>\n",
       "    <tr>\n",
       "      <td>14000</td>\n",
       "      <td>0.110000</td>\n",
       "      <td>0.108879</td>\n",
       "      <td>0.575660</td>\n",
       "      <td>0.679733</td>\n",
       "      <td>0.396593</td>\n",
       "    </tr>\n",
       "    <tr>\n",
       "      <td>14500</td>\n",
       "      <td>0.110000</td>\n",
       "      <td>0.108882</td>\n",
       "      <td>0.576979</td>\n",
       "      <td>0.680545</td>\n",
       "      <td>0.398652</td>\n",
       "    </tr>\n",
       "    <tr>\n",
       "      <td>15000</td>\n",
       "      <td>0.109700</td>\n",
       "      <td>0.108660</td>\n",
       "      <td>0.576747</td>\n",
       "      <td>0.680502</td>\n",
       "      <td>0.398028</td>\n",
       "    </tr>\n",
       "    <tr>\n",
       "      <td>15500</td>\n",
       "      <td>0.109700</td>\n",
       "      <td>0.108503</td>\n",
       "      <td>0.577414</td>\n",
       "      <td>0.681850</td>\n",
       "      <td>0.399101</td>\n",
       "    </tr>\n",
       "    <tr>\n",
       "      <td>16000</td>\n",
       "      <td>0.109500</td>\n",
       "      <td>0.108691</td>\n",
       "      <td>0.578066</td>\n",
       "      <td>0.679400</td>\n",
       "      <td>0.398666</td>\n",
       "    </tr>\n",
       "    <tr>\n",
       "      <td>16500</td>\n",
       "      <td>0.109500</td>\n",
       "      <td>0.108349</td>\n",
       "      <td>0.578327</td>\n",
       "      <td>0.682415</td>\n",
       "      <td>0.399435</td>\n",
       "    </tr>\n",
       "    <tr>\n",
       "      <td>17000</td>\n",
       "      <td>0.109300</td>\n",
       "      <td>0.108356</td>\n",
       "      <td>0.578660</td>\n",
       "      <td>0.681415</td>\n",
       "      <td>0.399623</td>\n",
       "    </tr>\n",
       "    <tr>\n",
       "      <td>17500</td>\n",
       "      <td>0.109300</td>\n",
       "      <td>0.108388</td>\n",
       "      <td>0.578501</td>\n",
       "      <td>0.681096</td>\n",
       "      <td>0.399246</td>\n",
       "    </tr>\n",
       "    <tr>\n",
       "      <td>18000</td>\n",
       "      <td>0.109200</td>\n",
       "      <td>0.108222</td>\n",
       "      <td>0.579168</td>\n",
       "      <td>0.682256</td>\n",
       "      <td>0.400145</td>\n",
       "    </tr>\n",
       "    <tr>\n",
       "      <td>18500</td>\n",
       "      <td>0.109200</td>\n",
       "      <td>0.108147</td>\n",
       "      <td>0.579661</td>\n",
       "      <td>0.682705</td>\n",
       "      <td>0.401189</td>\n",
       "    </tr>\n",
       "    <tr>\n",
       "      <td>19000</td>\n",
       "      <td>0.109000</td>\n",
       "      <td>0.108219</td>\n",
       "      <td>0.579893</td>\n",
       "      <td>0.681734</td>\n",
       "      <td>0.400493</td>\n",
       "    </tr>\n",
       "    <tr>\n",
       "      <td>19500</td>\n",
       "      <td>0.109000</td>\n",
       "      <td>0.108118</td>\n",
       "      <td>0.580357</td>\n",
       "      <td>0.682038</td>\n",
       "      <td>0.401276</td>\n",
       "    </tr>\n",
       "    <tr>\n",
       "      <td>20000</td>\n",
       "      <td>0.109500</td>\n",
       "      <td>0.107986</td>\n",
       "      <td>0.579124</td>\n",
       "      <td>0.682952</td>\n",
       "      <td>0.400870</td>\n",
       "    </tr>\n",
       "    <tr>\n",
       "      <td>20500</td>\n",
       "      <td>0.109500</td>\n",
       "      <td>0.107933</td>\n",
       "      <td>0.580299</td>\n",
       "      <td>0.682647</td>\n",
       "      <td>0.401653</td>\n",
       "    </tr>\n",
       "    <tr>\n",
       "      <td>21000</td>\n",
       "      <td>0.109400</td>\n",
       "      <td>0.108101</td>\n",
       "      <td>0.579806</td>\n",
       "      <td>0.682256</td>\n",
       "      <td>0.400986</td>\n",
       "    </tr>\n",
       "    <tr>\n",
       "      <td>21500</td>\n",
       "      <td>0.109400</td>\n",
       "      <td>0.107830</td>\n",
       "      <td>0.580864</td>\n",
       "      <td>0.683821</td>\n",
       "      <td>0.402957</td>\n",
       "    </tr>\n",
       "    <tr>\n",
       "      <td>22000</td>\n",
       "      <td>0.108700</td>\n",
       "      <td>0.107894</td>\n",
       "      <td>0.580560</td>\n",
       "      <td>0.682923</td>\n",
       "      <td>0.402001</td>\n",
       "    </tr>\n",
       "    <tr>\n",
       "      <td>22500</td>\n",
       "      <td>0.108700</td>\n",
       "      <td>0.107790</td>\n",
       "      <td>0.581516</td>\n",
       "      <td>0.683459</td>\n",
       "      <td>0.402812</td>\n",
       "    </tr>\n",
       "    <tr>\n",
       "      <td>23000</td>\n",
       "      <td>0.108700</td>\n",
       "      <td>0.107811</td>\n",
       "      <td>0.580560</td>\n",
       "      <td>0.683691</td>\n",
       "      <td>0.402160</td>\n",
       "    </tr>\n",
       "    <tr>\n",
       "      <td>23500</td>\n",
       "      <td>0.108700</td>\n",
       "      <td>0.107807</td>\n",
       "      <td>0.580864</td>\n",
       "      <td>0.684024</td>\n",
       "      <td>0.402435</td>\n",
       "    </tr>\n",
       "    <tr>\n",
       "      <td>24000</td>\n",
       "      <td>0.108200</td>\n",
       "      <td>0.107645</td>\n",
       "      <td>0.581429</td>\n",
       "      <td>0.684793</td>\n",
       "      <td>0.403291</td>\n",
       "    </tr>\n",
       "    <tr>\n",
       "      <td>24500</td>\n",
       "      <td>0.108200</td>\n",
       "      <td>0.107762</td>\n",
       "      <td>0.581705</td>\n",
       "      <td>0.682386</td>\n",
       "      <td>0.403001</td>\n",
       "    </tr>\n",
       "    <tr>\n",
       "      <td>25000</td>\n",
       "      <td>0.108200</td>\n",
       "      <td>0.107668</td>\n",
       "      <td>0.581299</td>\n",
       "      <td>0.684430</td>\n",
       "      <td>0.403349</td>\n",
       "    </tr>\n",
       "    <tr>\n",
       "      <td>25500</td>\n",
       "      <td>0.108200</td>\n",
       "      <td>0.107619</td>\n",
       "      <td>0.581574</td>\n",
       "      <td>0.685083</td>\n",
       "      <td>0.403769</td>\n",
       "    </tr>\n",
       "    <tr>\n",
       "      <td>26000</td>\n",
       "      <td>0.108900</td>\n",
       "      <td>0.107669</td>\n",
       "      <td>0.581168</td>\n",
       "      <td>0.684097</td>\n",
       "      <td>0.403334</td>\n",
       "    </tr>\n",
       "    <tr>\n",
       "      <td>26500</td>\n",
       "      <td>0.108900</td>\n",
       "      <td>0.107636</td>\n",
       "      <td>0.581574</td>\n",
       "      <td>0.685068</td>\n",
       "      <td>0.403639</td>\n",
       "    </tr>\n",
       "    <tr>\n",
       "      <td>27000</td>\n",
       "      <td>0.108700</td>\n",
       "      <td>0.107638</td>\n",
       "      <td>0.581937</td>\n",
       "      <td>0.684923</td>\n",
       "      <td>0.404103</td>\n",
       "    </tr>\n",
       "    <tr>\n",
       "      <td>27500</td>\n",
       "      <td>0.108700</td>\n",
       "      <td>0.107570</td>\n",
       "      <td>0.581415</td>\n",
       "      <td>0.685329</td>\n",
       "      <td>0.404001</td>\n",
       "    </tr>\n",
       "  </tbody>\n",
       "</table><p>\n",
       "    <div>\n",
       "      \n",
       "      <progress value='1430' max='8623' style='width:300px; height:20px; vertical-align: middle;'></progress>\n",
       "      [1430/8623 00:13 < 01:07, 106.05 it/s]\n",
       "    </div>\n",
       "    "
      ],
      "text/plain": [
       "<IPython.core.display.HTML object>"
      ]
     },
     "metadata": {},
     "output_type": "display_data"
    }
   ],
   "source": [
    "trainer.train()"
   ]
  },
  {
   "cell_type": "code",
   "execution_count": null,
   "id": "1d53dba2-cbf4-4b98-b9ff-cdc0260d112a",
   "metadata": {},
   "outputs": [],
   "source": [
    "trainer.predict(data[\"test\"])"
   ]
  },
  {
   "cell_type": "code",
   "execution_count": null,
   "id": "e1b19f45-e639-48ae-a445-ec8afe17cad5",
   "metadata": {},
   "outputs": [],
   "source": [
    "trainer.push_to_hub()"
   ]
  }
 ],
 "metadata": {
  "kernelspec": {
   "display_name": "Python 3 (ipykernel)",
   "language": "python",
   "name": "python3"
  },
  "language_info": {
   "codemirror_mode": {
    "name": "ipython",
    "version": 3
   },
   "file_extension": ".py",
   "mimetype": "text/x-python",
   "name": "python",
   "nbconvert_exporter": "python",
   "pygments_lexer": "ipython3",
   "version": "3.12.9"
  }
 },
 "nbformat": 4,
 "nbformat_minor": 5
}
