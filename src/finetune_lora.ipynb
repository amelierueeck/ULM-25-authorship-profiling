{
 "cells": [
  {
   "cell_type": "code",
   "execution_count": null,
   "id": "78732590-6905-4d4d-8191-3e3a8064f938",
   "metadata": {},
   "outputs": [],
   "source": [
    "%pip install transformers datasets peft wandb"
   ]
  },
  {
   "cell_type": "code",
   "execution_count": 1,
   "id": "715deb94-e2b7-4080-a288-2b08bfc78b50",
   "metadata": {},
   "outputs": [],
   "source": [
    "import transformers\n",
    "import datasets \n",
    "import peft"
   ]
  },
  {
   "cell_type": "code",
   "execution_count": 2,
   "id": "10056aa6-814d-4528-af4d-e9c18f90fdef",
   "metadata": {},
   "outputs": [],
   "source": [
    "from peft import LoraConfig, get_peft_model, PeftModel\n",
    "from datasets import load_dataset, Dataset, DatasetDict\n",
    "\n",
    "lora_config = LoraConfig(\n",
    "    r=2, # number of the parameters to train.\n",
    "    lora_alpha=1, # magnitude of the weight matrix\n",
    "    target_modules=[\"query\", \"value\"],\n",
    "    lora_dropout=0.05,\n",
    "    bias=\"lora_only\",\n",
    "    task_type=\"SEQ_CLS\" # sequence classification\n",
    ")"
   ]
  },
  {
   "cell_type": "code",
   "execution_count": 3,
   "id": "702863a2-90f2-44b2-b739-3ccd4edca611",
   "metadata": {},
   "outputs": [],
   "source": [
    "from transformers import BertTokenizer, BertModel\n",
    "model_checkpoint = \"google-bert/bert-base-uncased\"\n",
    "tokenizer = BertTokenizer.from_pretrained(model_checkpoint, use_fast=True)\n",
    "foundation_model = BertModel.from_pretrained(model_checkpoint)"
   ]
  },
  {
   "cell_type": "code",
   "execution_count": null,
   "id": "cb3a8d1d-ca26-407c-bb84-6ad83dbc48c7",
   "metadata": {},
   "outputs": [],
   "source": [
    "import pandas as pd\n",
    "\n",
    "DATA_PATH = \"/home/jovyan/work/ULM-25-authorship-profiling/data/\"\n",
    "\n",
    "df_train = pd.read_csv(DATA_PATH + \"data_train.csv\")\n",
    "df_test = pd.read_csv(DATA_PATH + \"data_test.csv\")\n",
    "df_val = pd.read_csv(DATA_PATH + \"data_val.csv\")"
   ]
  },
  {
   "cell_type": "code",
   "execution_count": null,
   "id": "8a113dce-7650-4f68-b152-2ad6aed40758",
   "metadata": {},
   "outputs": [],
   "source": [
    "dataset = DatasetDict()\n",
    "dataset['train'] = Dataset.from_pandas(df_train)\n",
    "dataset['validation'] = Dataset.from_pandas(df_val)\n",
    "dataset['test'] = Dataset.from_pandas(df_test)"
   ]
  },
  {
   "cell_type": "code",
   "execution_count": null,
   "id": "dc42e57b-d9f5-4887-bd7e-83f7177a0e84",
   "metadata": {},
   "outputs": [],
   "source": [
    "dataset = dataset.filter(lambda example: \n",
    "                         example[\"text\"] is not None and \n",
    "                         example[\"gender\"] is not None and\n",
    "                         example [\"age\"] is not None)\n",
    "dataset"
   ]
  },
  {
   "cell_type": "code",
   "execution_count": 6,
   "id": "e3fa914d-b611-42d5-8e43-5a869a8219a8",
   "metadata": {},
   "outputs": [],
   "source": [
    "from transformers import AutoTokenizer, AutoModel, PreTrainedModel, PretrainedConfig\n",
    "from sklearn.preprocessing import LabelEncoder\n",
    "import torch\n",
    "import torch.nn as nn\n",
    "import numpy as np\n",
    "\n",
    "\n",
    "def preprocess_function(examples):\n",
    "    tokenized = tokenizer(\n",
    "        examples['text'],\n",
    "        truncation=True,\n",
    "        padding='max_length',\n",
    "        max_length=512\n",
    "    )\n",
    "    gender_labels = [\n",
    "        {\"male\": 0, \"female\": 1}[label] for label in examples[\"gender\"]\n",
    "    ]\n",
    "    return {\n",
    "        \"input_ids\": tokenized[\"input_ids\"],\n",
    "        \"attention_mask\": tokenized[\"attention_mask\"],\n",
    "        \"age_labels\": examples[\"age\"],\n",
    "        \"gender_labels\": gender_labels,\n",
    "        \"labels\": np.stack([examples[\"age\"], gender_labels], axis=1)\n",
    "    }"
   ]
  },
  {
   "cell_type": "code",
   "execution_count": null,
   "id": "ed3d3872-208a-49f7-afd2-225f636bb525",
   "metadata": {
    "scrolled": true
   },
   "outputs": [],
   "source": [
    "tokenized_dataset = dataset.map(\n",
    "    preprocess_function,\n",
    "    batched=True,\n",
    "    remove_columns=['text', 'age', 'gender']\n",
    ")"
   ]
  },
  {
   "cell_type": "code",
   "execution_count": null,
   "id": "cc8302aa-1620-46f6-bc49-ccfe20d77151",
   "metadata": {},
   "outputs": [],
   "source": [
    "tokenized_dataset"
   ]
  },
  {
   "cell_type": "code",
   "execution_count": null,
   "id": "ce8604c1-deb4-4ed2-a9d5-1d0f14a9ddbb",
   "metadata": {},
   "outputs": [],
   "source": [
    "from huggingface_hub import login\n",
    "login()"
   ]
  },
  {
   "cell_type": "code",
   "execution_count": null,
   "id": "58310c36-ce11-4632-9193-32184e1b0e2c",
   "metadata": {},
   "outputs": [],
   "source": [
    "tokenized_dataset.push_to_hub(\n",
    "    \"KonradBRG/ULM-Profiling-tokenized\",\n",
    "    private=False,  # or True if you want it private\n",
    "    commit_message=\"Upload tokenized ULM profiling dataset\"\n",
    ")"
   ]
  },
  {
   "cell_type": "code",
   "execution_count": 4,
   "id": "ff2c6d30-7fd0-4d58-80e2-321a191e4b9e",
   "metadata": {},
   "outputs": [],
   "source": [
    "from datasets import load_dataset\n",
    "tokenized_dataset = load_dataset(\"KonradBRG/ULM-Profiling-tokenized\")"
   ]
  },
  {
   "cell_type": "code",
   "execution_count": 7,
   "id": "0d011ade-7090-40b2-a5af-a1ebda786a33",
   "metadata": {},
   "outputs": [],
   "source": [
    "class JointClassificationConfig(PretrainedConfig):\n",
    "    def __init__(self, num_age_labels=None, num_gender_labels=None, loss_alpha=0.5, **kwargs):\n",
    "        super().__init__(**kwargs)\n",
    "        self.num_age_labels = num_age_labels\n",
    "        self.num_gender_labels = num_gender_labels"
   ]
  },
  {
   "cell_type": "code",
   "execution_count": 8,
   "id": "c45c6b1c-4976-4168-8441-dfd04fe8c691",
   "metadata": {},
   "outputs": [],
   "source": [
    "from transformers.modeling_outputs import SequenceClassifierOutput\n",
    "from torch.nn import CrossEntropyLoss\n",
    "\n",
    "class BertForJointClassification(PreTrainedModel):\n",
    "    config_class = JointClassificationConfig\n",
    "    \n",
    "    def __init__(self, config, model):\n",
    "        super().__init__(config)\n",
    "        self.num_age_labels = config.num_age_labels\n",
    "        self.num_gender_labels = config.num_gender_labels\n",
    "\n",
    "        self.bert = model\n",
    "        self.age_classifier = nn.Linear(config.hidden_size, self.num_age_labels)\n",
    "        self.gender_classifier = nn.Linear(config.hidden_size, self.num_gender_labels)\n",
    "        self.dropout = nn.Dropout(config.hidden_dropout_prob)\n",
    "        self.age_loss_fct = CrossEntropyLoss()\n",
    "        self.gender_loss_fct = CrossEntropyLoss()\n",
    "        \n",
    "        self.init_weights()\n",
    "\n",
    "    def forward(\n",
    "        self,\n",
    "        input_ids=None,\n",
    "        attention_mask=None,\n",
    "        token_type_ids=None,\n",
    "        age_labels=None,\n",
    "        gender_labels=None,\n",
    "        **kwargs\n",
    "    ):\n",
    "        # get BERT outputs\n",
    "        x = self.bert(\n",
    "            input_ids=input_ids,\n",
    "            attention_mask=attention_mask,\n",
    "            token_type_ids=token_type_ids\n",
    "        )\n",
    "        # pool outputs to get sequence representation\n",
    "        x = x.last_hidden_state[:, 0]\n",
    "        x = self.dropout(x)\n",
    "        # get logits from task head\n",
    "        age_logits = self.age_classifier(x)\n",
    "        gender_logits = self.gender_classifier(x)\n",
    "        loss_age = self.age_loss_fct(age_logits, age_labels)\n",
    "        loss_gender = self.gender_loss_fct(gender_logits, gender_labels)\n",
    "        return SequenceClassifierOutput(loss={\"loss_age\": loss_age, \"loss_gender\": loss_gender}, \n",
    "                                        logits=torch.cat([age_logits, gender_logits], dim=1))"
   ]
  },
  {
   "cell_type": "code",
   "execution_count": 19,
   "id": "b31c1b07-691a-457b-88f2-59b2d4439839",
   "metadata": {},
   "outputs": [],
   "source": [
    "num_age_labels = len([0, 18, 23, 27, 33, 37, 43, 47, 53, 57, 100])\n",
    "def setup_model(dataset, model_name=\"bert-base-uncased\", peft=True):\n",
    "    config = JointClassificationConfig(\n",
    "        name_or_path=model_name,\n",
    "        num_age_labels=num_age_labels,\n",
    "        num_gender_labels=2,\n",
    "        hidden_size=768,\n",
    "        hidden_dropout_prob=0.1,\n",
    "    )\n",
    "    bert = BertForJointClassification(config, foundation_model)\n",
    "    if peft:\n",
    "        bert = get_peft_model(bert, lora_config)\n",
    "    return bert, config, dataset"
   ]
  },
  {
   "cell_type": "code",
   "execution_count": 26,
   "id": "b368fe62-6d89-4166-ae23-ccc138b9418c",
   "metadata": {},
   "outputs": [
    {
     "data": {
      "text/plain": [
       "BertForJointClassification(\n",
       "  (bert): BertModel(\n",
       "    (embeddings): BertEmbeddings(\n",
       "      (word_embeddings): Embedding(30522, 768, padding_idx=0)\n",
       "      (position_embeddings): Embedding(512, 768)\n",
       "      (token_type_embeddings): Embedding(2, 768)\n",
       "      (LayerNorm): LayerNorm((768,), eps=1e-12, elementwise_affine=True)\n",
       "      (dropout): Dropout(p=0.1, inplace=False)\n",
       "    )\n",
       "    (encoder): BertEncoder(\n",
       "      (layer): ModuleList(\n",
       "        (0-11): 12 x BertLayer(\n",
       "          (attention): BertAttention(\n",
       "            (self): BertSdpaSelfAttention(\n",
       "              (query): Linear(in_features=768, out_features=768, bias=True)\n",
       "              (key): Linear(in_features=768, out_features=768, bias=True)\n",
       "              (value): Linear(in_features=768, out_features=768, bias=True)\n",
       "              (dropout): Dropout(p=0.1, inplace=False)\n",
       "            )\n",
       "            (output): BertSelfOutput(\n",
       "              (dense): Linear(in_features=768, out_features=768, bias=True)\n",
       "              (LayerNorm): LayerNorm((768,), eps=1e-12, elementwise_affine=True)\n",
       "              (dropout): Dropout(p=0.1, inplace=False)\n",
       "            )\n",
       "          )\n",
       "          (intermediate): BertIntermediate(\n",
       "            (dense): Linear(in_features=768, out_features=3072, bias=True)\n",
       "            (intermediate_act_fn): GELUActivation()\n",
       "          )\n",
       "          (output): BertOutput(\n",
       "            (dense): Linear(in_features=3072, out_features=768, bias=True)\n",
       "            (LayerNorm): LayerNorm((768,), eps=1e-12, elementwise_affine=True)\n",
       "            (dropout): Dropout(p=0.1, inplace=False)\n",
       "          )\n",
       "        )\n",
       "      )\n",
       "    )\n",
       "    (pooler): BertPooler(\n",
       "      (dense): Linear(in_features=768, out_features=768, bias=True)\n",
       "      (activation): Tanh()\n",
       "    )\n",
       "  )\n",
       "  (age_classifier): Linear(in_features=768, out_features=11, bias=True)\n",
       "  (gender_classifier): Linear(in_features=768, out_features=2, bias=True)\n",
       "  (dropout): Dropout(p=0.1, inplace=False)\n",
       "  (age_loss_fct): CrossEntropyLoss()\n",
       "  (gender_loss_fct): CrossEntropyLoss()\n",
       ")"
      ]
     },
     "execution_count": 26,
     "metadata": {},
     "output_type": "execute_result"
    }
   ],
   "source": [
    "# optional\n",
    "peft_model.unload()"
   ]
  },
  {
   "cell_type": "code",
   "execution_count": 27,
   "id": "8685989c-03f1-4fac-b453-3642d256707b",
   "metadata": {},
   "outputs": [],
   "source": [
    "peft_model, config, data = setup_model(tokenized_dataset, model_checkpoint)"
   ]
  },
  {
   "cell_type": "code",
   "execution_count": 22,
   "id": "bca6fa20-5e11-476f-ab54-6b65f9bbbd4a",
   "metadata": {},
   "outputs": [],
   "source": [
    "def compute_metrics(eval_pred):\n",
    "    logits = eval_pred.predictions\n",
    "    age_labels, gender_labels = eval_pred.label_ids\n",
    "\n",
    "    age_logits = logits[:, :num_age_labels]\n",
    "    gender_logits = logits[:, num_age_labels:]\n",
    "\n",
    "    age_preds = np.argmax(age_logits, axis=-1)\n",
    "    gender_preds = np.argmax(gender_logits, axis=-1)\n",
    "\n",
    "    age_acc = (age_preds == age_labels).mean()\n",
    "    gender_acc = (gender_preds == gender_labels).mean()\n",
    "    joint_acc = np.mean((age_preds == age_labels) & (gender_preds == gender_labels))\n",
    "\n",
    "    return {\"age_acc\": age_acc, \"gender_acc\": gender_acc, \"joint_acc\": joint_acc}"
   ]
  },
  {
   "cell_type": "code",
   "execution_count": 23,
   "id": "a993361f-bc73-475b-8b4c-3fca37200ab5",
   "metadata": {},
   "outputs": [],
   "source": [
    "from typing import Dict, Union, Any\n",
    "from transformers import Trainer, TrainingArguments, default_data_collator\n",
    "\n",
    "class TrainerWithCustomLoss(Trainer):\n",
    "    \n",
    "    def __init__(self, age_alpha: float = 0.5, scale_losses = True, **kwargs):\n",
    "        super().__init__(**kwargs)\n",
    "        self.age_alpha = age_alpha\n",
    "        self.gender_alpha = 1 - self.age_alpha\n",
    "        self._scale_losses = scale_losses\n",
    "    \n",
    "    def training_step(\n",
    "        self, model: nn.Module, inputs: Dict[str, Union[torch.Tensor, Any]], num_items_in_batch=None\n",
    "    ) -> torch.Tensor:\n",
    "        model.train()\n",
    "        if hasattr(self.optimizer, \"train\") and callable(self.optimizer.train):\n",
    "            self.optimizer.train()\n",
    "        inputs = self._prepare_inputs(inputs)\n",
    "        \n",
    "        with self.compute_loss_context_manager():\n",
    "            loss = self.compute_loss(model, inputs)\n",
    "        self.accelerator.backward(loss)\n",
    "        \n",
    "        # Finally we need to normalize the loss for reporting\n",
    "        if num_items_in_batch is None:\n",
    "            return loss.detach() / self.args.gradient_accumulation_steps\n",
    "        return loss.detach()\n",
    "\n",
    "    def compute_loss(self, model, inputs, return_outputs=False, num_items_in_batch=None):\n",
    "        outputs = model(**inputs)\n",
    "        loss_age, loss_gender = outputs.loss[\"loss_age\"], outputs.loss[\"loss_gender\"]\n",
    "        loss = self.age_alpha * loss_age + self.gender_alpha * loss_gender\n",
    "        \n",
    "        if return_outputs:\n",
    "            return loss, outputs\n",
    "        return loss"
   ]
  },
  {
   "cell_type": "code",
   "execution_count": 28,
   "id": "064d4bc2-659b-4e5b-b954-0e1dcb6739aa",
   "metadata": {},
   "outputs": [],
   "source": [
    "del trainer"
   ]
  },
  {
   "cell_type": "code",
   "execution_count": 29,
   "id": "19fcce74-55d9-4739-8a7a-5f5d81b9e589",
   "metadata": {},
   "outputs": [
    {
     "name": "stdout",
     "output_type": "stream",
     "text": [
      "trainable params: 102,157 || all params: 109,575,962 || trainable%: 0.0932\n",
      "None\n"
     ]
    }
   ],
   "source": [
    "from transformers import Trainer, TrainingArguments, default_data_collator\n",
    "\n",
    "print(peft_model.print_trainable_parameters())\n",
    "log_frequency = 1000\n",
    "\n",
    "training_args = TrainingArguments(\n",
    "    \"bert-lora-for-author-profiling\",\n",
    "    per_device_train_batch_size=16,  # Set explicitly for better control\n",
    "    gradient_accumulation_steps=2,   # Effective batch size = 32 * 2 = 64\n",
    "    num_train_epochs=2,\n",
    "    # Speed optimizations\n",
    "    dataloader_num_workers=4,        # Parallel data loading\n",
    "    dataloader_pin_memory=True,      # Faster GPU transfer\n",
    "    bf16=True,                       # Mixed precision (if you have newer GPU)\n",
    "    # fp16=True,                     # Use this instead if bf16 not supported\n",
    "    # Reduce overhead\n",
    "    eval_strategy=\"steps\",           # Less frequent evaluation\n",
    "    eval_steps=1000,                  # Adjust based on dataset size\n",
    "    logging_strategy=\"steps\",\n",
    "    logging_steps=log_frequency,\n",
    "    save_strategy=\"no\",\n",
    "    learning_rate=0.000097145,\n",
    "    report_to=\"wandb\"\n",
    ")\n",
    "\n",
    "trainer = TrainerWithCustomLoss(\n",
    "    age_alpha=0.40036,\n",
    "    model=peft_model,\n",
    "    args=training_args,\n",
    "    train_dataset=data['train'].with_format(\"torch\"),\n",
    "    eval_dataset=data['validation'].with_format(\"torch\"),\n",
    "    data_collator=default_data_collator,\n",
    "    compute_metrics=compute_metrics,\n",
    ")"
   ]
  },
  {
   "cell_type": "code",
   "execution_count": 30,
   "id": "4e83e7b2-6915-4b4b-8dfa-8bd23e360e1b",
   "metadata": {
    "scrolled": true
   },
   "outputs": [
    {
     "data": {
      "text/html": [
       "\n",
       "    <div>\n",
       "      \n",
       "      <progress value='26907' max='38802' style='width:300px; height:20px; vertical-align: middle;'></progress>\n",
       "      [26907/38802 1:31:01 < 40:14, 4.93 it/s, Epoch 1.39/2]\n",
       "    </div>\n",
       "    <table border=\"1\" class=\"dataframe\">\n",
       "  <thead>\n",
       " <tr style=\"text-align: left;\">\n",
       "      <th>Step</th>\n",
       "      <th>Training Loss</th>\n",
       "      <th>Validation Loss</th>\n",
       "      <th>Age Acc</th>\n",
       "      <th>Gender Acc</th>\n",
       "      <th>Joint Acc</th>\n",
       "    </tr>\n",
       "  </thead>\n",
       "  <tbody>\n",
       "    <tr>\n",
       "      <td>1000</td>\n",
       "      <td>0.932100</td>\n",
       "      <td>0.874950</td>\n",
       "      <td>0.534793</td>\n",
       "      <td>0.655262</td>\n",
       "      <td>0.351711</td>\n",
       "    </tr>\n",
       "    <tr>\n",
       "      <td>2000</td>\n",
       "      <td>0.869100</td>\n",
       "      <td>0.853380</td>\n",
       "      <td>0.549072</td>\n",
       "      <td>0.666556</td>\n",
       "      <td>0.368469</td>\n",
       "    </tr>\n",
       "    <tr>\n",
       "      <td>3000</td>\n",
       "      <td>0.852600</td>\n",
       "      <td>0.842373</td>\n",
       "      <td>0.553943</td>\n",
       "      <td>0.674224</td>\n",
       "      <td>0.375196</td>\n",
       "    </tr>\n",
       "    <tr>\n",
       "      <td>4000</td>\n",
       "      <td>0.846800</td>\n",
       "      <td>0.833621</td>\n",
       "      <td>0.559046</td>\n",
       "      <td>0.678356</td>\n",
       "      <td>0.383285</td>\n",
       "    </tr>\n",
       "    <tr>\n",
       "      <td>5000</td>\n",
       "      <td>0.845900</td>\n",
       "      <td>0.827963</td>\n",
       "      <td>0.563555</td>\n",
       "      <td>0.682140</td>\n",
       "      <td>0.386532</td>\n",
       "    </tr>\n",
       "    <tr>\n",
       "      <td>6000</td>\n",
       "      <td>0.837000</td>\n",
       "      <td>0.824220</td>\n",
       "      <td>0.563656</td>\n",
       "      <td>0.684851</td>\n",
       "      <td>0.389084</td>\n",
       "    </tr>\n",
       "    <tr>\n",
       "      <td>7000</td>\n",
       "      <td>0.831600</td>\n",
       "      <td>0.819323</td>\n",
       "      <td>0.568049</td>\n",
       "      <td>0.687460</td>\n",
       "      <td>0.393737</td>\n",
       "    </tr>\n",
       "    <tr>\n",
       "      <td>8000</td>\n",
       "      <td>0.830200</td>\n",
       "      <td>0.817723</td>\n",
       "      <td>0.570325</td>\n",
       "      <td>0.685720</td>\n",
       "      <td>0.395158</td>\n",
       "    </tr>\n",
       "    <tr>\n",
       "      <td>9000</td>\n",
       "      <td>0.824000</td>\n",
       "      <td>0.814658</td>\n",
       "      <td>0.570571</td>\n",
       "      <td>0.688489</td>\n",
       "      <td>0.396927</td>\n",
       "    </tr>\n",
       "    <tr>\n",
       "      <td>10000</td>\n",
       "      <td>0.821400</td>\n",
       "      <td>0.812157</td>\n",
       "      <td>0.572760</td>\n",
       "      <td>0.689693</td>\n",
       "      <td>0.399188</td>\n",
       "    </tr>\n",
       "    <tr>\n",
       "      <td>11000</td>\n",
       "      <td>0.820600</td>\n",
       "      <td>0.809669</td>\n",
       "      <td>0.573456</td>\n",
       "      <td>0.692505</td>\n",
       "      <td>0.401305</td>\n",
       "    </tr>\n",
       "    <tr>\n",
       "      <td>12000</td>\n",
       "      <td>0.817200</td>\n",
       "      <td>0.807305</td>\n",
       "      <td>0.573645</td>\n",
       "      <td>0.693868</td>\n",
       "      <td>0.402131</td>\n",
       "    </tr>\n",
       "    <tr>\n",
       "      <td>13000</td>\n",
       "      <td>0.815200</td>\n",
       "      <td>0.805894</td>\n",
       "      <td>0.575022</td>\n",
       "      <td>0.694100</td>\n",
       "      <td>0.403247</td>\n",
       "    </tr>\n",
       "    <tr>\n",
       "      <td>14000</td>\n",
       "      <td>0.814800</td>\n",
       "      <td>0.804654</td>\n",
       "      <td>0.576921</td>\n",
       "      <td>0.695477</td>\n",
       "      <td>0.405842</td>\n",
       "    </tr>\n",
       "    <tr>\n",
       "      <td>15000</td>\n",
       "      <td>0.812100</td>\n",
       "      <td>0.802192</td>\n",
       "      <td>0.577573</td>\n",
       "      <td>0.695173</td>\n",
       "      <td>0.405683</td>\n",
       "    </tr>\n",
       "    <tr>\n",
       "      <td>16000</td>\n",
       "      <td>0.813900</td>\n",
       "      <td>0.800263</td>\n",
       "      <td>0.579095</td>\n",
       "      <td>0.696709</td>\n",
       "      <td>0.407596</td>\n",
       "    </tr>\n",
       "    <tr>\n",
       "      <td>17000</td>\n",
       "      <td>0.808100</td>\n",
       "      <td>0.801054</td>\n",
       "      <td>0.578834</td>\n",
       "      <td>0.696187</td>\n",
       "      <td>0.408510</td>\n",
       "    </tr>\n",
       "    <tr>\n",
       "      <td>18000</td>\n",
       "      <td>0.808400</td>\n",
       "      <td>0.799259</td>\n",
       "      <td>0.578747</td>\n",
       "      <td>0.696463</td>\n",
       "      <td>0.408365</td>\n",
       "    </tr>\n",
       "    <tr>\n",
       "      <td>19000</td>\n",
       "      <td>0.801400</td>\n",
       "      <td>0.798143</td>\n",
       "      <td>0.581168</td>\n",
       "      <td>0.696144</td>\n",
       "      <td>0.410467</td>\n",
       "    </tr>\n",
       "    <tr>\n",
       "      <td>20000</td>\n",
       "      <td>0.802900</td>\n",
       "      <td>0.800419</td>\n",
       "      <td>0.580937</td>\n",
       "      <td>0.694158</td>\n",
       "      <td>0.407538</td>\n",
       "    </tr>\n",
       "    <tr>\n",
       "      <td>21000</td>\n",
       "      <td>0.803500</td>\n",
       "      <td>0.797194</td>\n",
       "      <td>0.581255</td>\n",
       "      <td>0.697840</td>\n",
       "      <td>0.411235</td>\n",
       "    </tr>\n",
       "    <tr>\n",
       "      <td>22000</td>\n",
       "      <td>0.800100</td>\n",
       "      <td>0.796080</td>\n",
       "      <td>0.582256</td>\n",
       "      <td>0.698159</td>\n",
       "      <td>0.412931</td>\n",
       "    </tr>\n",
       "    <tr>\n",
       "      <td>23000</td>\n",
       "      <td>0.802900</td>\n",
       "      <td>0.794678</td>\n",
       "      <td>0.581719</td>\n",
       "      <td>0.698985</td>\n",
       "      <td>0.412250</td>\n",
       "    </tr>\n",
       "    <tr>\n",
       "      <td>24000</td>\n",
       "      <td>0.800800</td>\n",
       "      <td>0.792395</td>\n",
       "      <td>0.584358</td>\n",
       "      <td>0.700101</td>\n",
       "      <td>0.414164</td>\n",
       "    </tr>\n",
       "    <tr>\n",
       "      <td>25000</td>\n",
       "      <td>0.804600</td>\n",
       "      <td>0.796775</td>\n",
       "      <td>0.584416</td>\n",
       "      <td>0.694404</td>\n",
       "      <td>0.410960</td>\n",
       "    </tr>\n",
       "    <tr>\n",
       "      <td>26000</td>\n",
       "      <td>0.798700</td>\n",
       "      <td>0.791588</td>\n",
       "      <td>0.584242</td>\n",
       "      <td>0.700261</td>\n",
       "      <td>0.414729</td>\n",
       "    </tr>\n",
       "  </tbody>\n",
       "</table><p>"
      ],
      "text/plain": [
       "<IPython.core.display.HTML object>"
      ]
     },
     "metadata": {},
     "output_type": "display_data"
    },
    {
     "name": "stderr",
     "output_type": "stream",
     "text": [
      "IOPub message rate exceeded.\n",
      "The Jupyter server will temporarily stop sending output\n",
      "to the client in order to avoid crashing it.\n",
      "To change this limit, set the config variable\n",
      "`--ServerApp.iopub_msg_rate_limit`.\n",
      "\n",
      "Current values:\n",
      "ServerApp.iopub_msg_rate_limit=1000.0 (msgs/sec)\n",
      "ServerApp.rate_limit_window=3.0 (secs)\n",
      "\n"
     ]
    }
   ],
   "source": [
    "trainer.train()"
   ]
  },
  {
   "cell_type": "code",
   "execution_count": 33,
   "id": "1d53dba2-cbf4-4b98-b9ff-cdc0260d112a",
   "metadata": {},
   "outputs": [
    {
     "data": {
      "text/html": [],
      "text/plain": [
       "<IPython.core.display.HTML object>"
      ]
     },
     "metadata": {},
     "output_type": "display_data"
    }
   ],
   "source": [
    "test_results = trainer.predict(data[\"test\"])"
   ]
  },
  {
   "cell_type": "code",
   "execution_count": null,
   "id": "dd34786c-4926-4414-8b92-03a3b4ef91cd",
   "metadata": {},
   "outputs": [],
   "source": [
    "import wandb\n",
    "wandb.finish()\n",
    "sweep_config = {\n",
    "    \"name\": \"LoRA-For-Author-Profiling\",\n",
    "    \"method\": \"bayes\",\n",
    "    \"metric\": {\n",
    "        \"name\": \"Joint Acc\",\n",
    "        \"goal\": \"maximize\"\n",
    "    },\n",
    "    \"parameters\": {\n",
    "        \"learning_rate\": {\n",
    "            \"min\": 0.00005,\n",
    "            \"max\": 0.0001\n",
    "        },\n",
    "        \"age_alpha\": {\n",
    "            \"min\": 0.4,\n",
    "            \"max\": 0.9\n",
    "        },\n",
    "        \"per_device_train_batch_size\": {\n",
    "            \"values\": [16, 32, 64]\n",
    "        },\n",
    "        \"num_train_epochs\": {\n",
    "            \"values\": [2, 3, 4]\n",
    "        },\n",
    "        \"peft_r_value\": {\n",
    "            \"values\": [2, 4, 8]\n",
    "        },\n",
    "    }\n",
    "}\n",
    "\n",
    "# Create the sweep\n",
    "sweep_id = wandb.sweep(sweep_config, project=\"ULM-Author-Profiling\")"
   ]
  },
  {
   "cell_type": "code",
   "execution_count": null,
   "id": "e0cda984-791e-4f17-a346-2bdf735211e5",
   "metadata": {},
   "outputs": [],
   "source": [
    "def train(config=None):\n",
    "    # Initialize wandb run with the config from sweep\n",
    "    with wandb.init(config=config):\n",
    "        peft_r_value = wandb.config.peft_r_value\n",
    "        learning_rate = wandb.config.learning_rate\n",
    "        age_alpha = wandb.config.age_alpha\n",
    "        batch_size = wandb.config.per_device_train_batch_size\n",
    "        epochs = wandb.config.num_train_epochs\n",
    "\n",
    "        lora_config = LoraConfig(\n",
    "            r=peft_r_value, # number of the parameters to train.\n",
    "            lora_alpha=1, # magnitude of the weight matrix\n",
    "            target_modules=[\"query\", \"value\"],\n",
    "            lora_dropout=0.05,\n",
    "            bias=\"lora_only\",\n",
    "            task_type=\"SEQ_CLS\" # sequence classification\n",
    "        )\n",
    "        peft_model, config, data = setup_model(tokenized_dataset, model_checkpoint)\n",
    "\n",
    "        # Set up training arguments\n",
    "        training_args = TrainingArguments(\n",
    "            output_dir=\"bert-lora-for-author-profiling\",\n",
    "            per_device_train_batch_size=batch_size,\n",
    "            gradient_accumulation_steps=2,\n",
    "            num_train_epochs=epochs,\n",
    "            # Speed optimizations\n",
    "            dataloader_num_workers=4,    \n",
    "            dataloader_pin_memory=True,\n",
    "            bf16=True,\n",
    "            eval_strategy=\"steps\",         \n",
    "            eval_steps=1000,                  \n",
    "            logging_strategy=\"steps\",\n",
    "            logging_steps=1000,\n",
    "            save_strategy=\"no\",\n",
    "            learning_rate=learning_rate,\n",
    "            report_to=\"wandb\"\n",
    "        )\n",
    "        \n",
    "        trainer = TrainerWithCustomLoss(\n",
    "            age_alpha=age_alpha,\n",
    "            model=peft_model,\n",
    "            args=training_args,\n",
    "            train_dataset=data['train'].with_format(\"torch\"),  # Make sure data is defined\n",
    "            eval_dataset=data['validation'].with_format(\"torch\"),\n",
    "            data_collator=default_data_collator,\n",
    "            compute_metrics=compute_metrics,\n",
    "        )\n",
    "        try:\n",
    "            trainer.train()\n",
    "            eval_results = trainer.evaluate()\n",
    "            wandb.log(eval_results)\n",
    "            print(f\"Training completed! Final Joint Acc: {eval_results.get('eval_Joint Acc', 'N/A')}\")\n",
    "        finally:\n",
    "            # Ensure cleanup happens even if training fails\n",
    "            peft_model.unload()\n",
    "            del trainer\n",
    "            del peft_model\n",
    "            torch.cuda.empty_cache()  # Clear GPU memory"
   ]
  },
  {
   "cell_type": "code",
   "execution_count": null,
   "id": "1d36ec29-ec06-490e-aa10-e69ab197b1e0",
   "metadata": {},
   "outputs": [],
   "source": [
    "wandb.agent(sweep_id, train, count=10)  # Will run 10 different hyperparameter combinations"
   ]
  },
  {
   "cell_type": "code",
   "execution_count": 32,
   "id": "e1b19f45-e639-48ae-a445-ec8afe17cad5",
   "metadata": {},
   "outputs": [
    {
     "data": {
      "application/vnd.jupyter.widget-view+json": {
       "model_id": "07883b06d91b4a5dbaedafb97072bf35",
       "version_major": 2,
       "version_minor": 0
      },
      "text/plain": [
       "training_args.bin:   0%|          | 0.00/5.37k [00:00<?, ?B/s]"
      ]
     },
     "metadata": {},
     "output_type": "display_data"
    },
    {
     "data": {
      "application/vnd.jupyter.widget-view+json": {
       "model_id": "c16f0ddfd00745f7aebc5a7a72006fbb",
       "version_major": 2,
       "version_minor": 0
      },
      "text/plain": [
       "Upload 2 LFS files:   0%|          | 0/2 [00:00<?, ?it/s]"
      ]
     },
     "metadata": {},
     "output_type": "display_data"
    },
    {
     "data": {
      "application/vnd.jupyter.widget-view+json": {
       "model_id": "86eb3e53052748b087ac7479b7832f95",
       "version_major": 2,
       "version_minor": 0
      },
      "text/plain": [
       "adapter_model.safetensors:   0%|          | 0.00/342k [00:00<?, ?B/s]"
      ]
     },
     "metadata": {},
     "output_type": "display_data"
    },
    {
     "data": {
      "text/plain": [
       "CommitInfo(commit_url='https://huggingface.co/KonradBRG/bert-lora-for-author-profiling/commit/410491834440977fcf17dda8c1d366553ae1a2e6', commit_message='End of training', commit_description='', oid='410491834440977fcf17dda8c1d366553ae1a2e6', pr_url=None, repo_url=RepoUrl('https://huggingface.co/KonradBRG/bert-lora-for-author-profiling', endpoint='https://huggingface.co', repo_type='model', repo_id='KonradBRG/bert-lora-for-author-profiling'), pr_revision=None, pr_num=None)"
      ]
     },
     "execution_count": 32,
     "metadata": {},
     "output_type": "execute_result"
    }
   ],
   "source": [
    "trainer.push_to_hub()"
   ]
  },
  {
   "cell_type": "code",
   "execution_count": 39,
   "id": "3f4ec370-a704-4656-a524-76435ea86183",
   "metadata": {},
   "outputs": [
    {
     "data": {
      "text/plain": [
       "{'test_loss': 0.777191162109375,\n",
       " 'test_age_acc': 0.5754898599646615,\n",
       " 'test_gender_acc': 0.733405416809515,\n",
       " 'test_joint_acc': 0.42382446794482975,\n",
       " 'test_runtime': 44.4852,\n",
       " 'test_samples_per_second': 852.397,\n",
       " 'test_steps_per_second': 106.552}"
      ]
     },
     "execution_count": 39,
     "metadata": {},
     "output_type": "execute_result"
    }
   ],
   "source": [
    "test_results.metrics"
   ]
  },
  {
   "cell_type": "code",
   "execution_count": 47,
   "id": "6a210616-45d3-4483-af8c-e8a27b6fa12b",
   "metadata": {},
   "outputs": [
    {
     "data": {
      "image/png": "[encoded data removed]",
      "text/plain": [
       "<Figure size 640x480 with 1 Axes>"
      ]
     },
     "metadata": {},
     "output_type": "display_data"
    }
   ],
   "source": [
    "import seaborn as sns\n",
    "import matplotlib.pyplot as plt\n",
    "acc = {k: v for k, v in test_results.metrics.items() if \"acc\" in k or \"f1\" in k}\n",
    "sns.barplot(\n",
    "    x=list(acc.keys()), \n",
    "    y=list(acc.values()),\n",
    "    hue=list(acc.keys()),\n",
    "    legend=False,\n",
    "    palette=\"viridis\", \n",
    "    alpha=0.8,\n",
    "    edgecolor='black',      \n",
    "    linewidth=1.2,               \n",
    "    capsize=0.1  \n",
    ")\n",
    "plt.show()"
   ]
  },
  {
   "cell_type": "code",
   "execution_count": null,
   "id": "ccf8098d-fede-43cd-ace8-8e4edf91cdd6",
   "metadata": {},
   "outputs": [],
   "source": []
  }
 ],
 "metadata": {
  "kernelspec": {
   "display_name": "Python 3 (ipykernel)",
   "language": "python",
   "name": "python3"
  },
  "language_info": {
   "codemirror_mode": {
    "name": "ipython",
    "version": 3
   },
   "file_extension": ".py",
   "mimetype": "text/x-python",
   "name": "python",
   "nbconvert_exporter": "python",
   "pygments_lexer": "ipython3",
   "version": "3.12.10"
  }
 },
 "nbformat": 4,
 "nbformat_minor": 5
}
