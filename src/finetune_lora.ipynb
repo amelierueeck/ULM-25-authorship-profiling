{
 "cells": [
  {
   "cell_type": "code",
   "execution_count": 3,
   "id": "715deb94-e2b7-4080-a288-2b08bfc78b50",
   "metadata": {},
   "outputs": [],
   "source": [
    "import transformers\n",
    "import datasets \n",
    "import peft"
   ]
  },
  {
   "cell_type": "code",
   "execution_count": 4,
   "id": "10056aa6-814d-4528-af4d-e9c18f90fdef",
   "metadata": {},
   "outputs": [],
   "source": [
    "from peft import LoraConfig, get_peft_model, PeftModel\n",
    "from datasets import load_dataset, Dataset, DatasetDict\n",
    "\n",
    "lora_config = LoraConfig(\n",
    "    r=4, # number of the parameters to train.\n",
    "    lora_alpha=1, # a scaling factor that adjusts the magnitude of the weight matrix\n",
    "    target_modules=[\"query\", \"value\"], # for bert\n",
    "    lora_dropout=0.05,\n",
    "    bias=\"lora_only\", # this specifies if the bias parameter should be trained.\n",
    "    task_type=\"SEQ_CLS\" # sequence classification\n",
    ")"
   ]
  },
  {
   "cell_type": "code",
   "execution_count": 6,
   "id": "702863a2-90f2-44b2-b739-3ccd4edca611",
   "metadata": {},
   "outputs": [],
   "source": [
    "from transformers import BertTokenizer, BertModel\n",
    "tokenizer = BertTokenizer.from_pretrained(\"google-bert/bert-base-uncased\", use_fast=True)\n",
    "foundation_model = BertModel.from_pretrained(\"google-bert/bert-base-uncased\").to(\"cuda\")"
   ]
  },
  {
   "cell_type": "code",
   "execution_count": 16,
   "id": "cb3a8d1d-ca26-407c-bb84-6ad83dbc48c7",
   "metadata": {},
   "outputs": [],
   "source": [
    "import pandas as pd\n",
    "\n",
    "df_train = pd.read_csv(\"/home/jovyan/work/ULM-25-authorship-profiling/data/data_train.csv\")\n",
    "df_test = pd.read_csv(\"/home/jovyan/work/ULM-25-authorship-profiling/data/data_test.csv\")\n",
    "df_val = pd.read_csv(\"/home/jovyan/work/ULM-25-authorship-profiling/data/data_val.csv\")"
   ]
  },
  {
   "cell_type": "code",
   "execution_count": 32,
   "id": "8a113dce-7650-4f68-b152-2ad6aed40758",
   "metadata": {},
   "outputs": [],
   "source": [
    "dataset = DatasetDict()\n",
    "dataset['train'] = Dataset.from_pandas(df_train)#.select(range(100))\n",
    "dataset['validation'] = Dataset.from_pandas(df_val)#.select(range(100))\n",
    "dataset['test'] = Dataset.from_pandas(df_test)#.select(range(100))"
   ]
  },
  {
   "cell_type": "code",
   "execution_count": 33,
   "id": "dc42e57b-d9f5-4887-bd7e-83f7177a0e84",
   "metadata": {},
   "outputs": [
    {
     "data": {
      "application/vnd.jupyter.widget-view+json": {
       "model_id": "9826e6a9c4e843d5846fe8f1f802d273",
       "version_major": 2,
       "version_minor": 0
      },
      "text/plain": [
       "Filter:   0%|          | 0/620813 [00:00<?, ? examples/s]"
      ]
     },
     "metadata": {},
     "output_type": "display_data"
    },
    {
     "data": {
      "application/vnd.jupyter.widget-view+json": {
       "model_id": "946fbbc6f1e34a918de48a4ffcda8adf",
       "version_major": 2,
       "version_minor": 0
      },
      "text/plain": [
       "Filter:   0%|          | 0/68980 [00:00<?, ? examples/s]"
      ]
     },
     "metadata": {},
     "output_type": "display_data"
    },
    {
     "data": {
      "application/vnd.jupyter.widget-view+json": {
       "model_id": "ac39e537aa2d414cabf847ef0a36e082",
       "version_major": 2,
       "version_minor": 0
      },
      "text/plain": [
       "Filter:   0%|          | 0/37919 [00:00<?, ? examples/s]"
      ]
     },
     "metadata": {},
     "output_type": "display_data"
    },
    {
     "data": {
      "text/plain": [
       "DatasetDict({\n",
       "    train: Dataset({\n",
       "        features: ['text', 'age', 'gender'],\n",
       "        num_rows: 620812\n",
       "    })\n",
       "    validation: Dataset({\n",
       "        features: ['text', 'age', 'gender'],\n",
       "        num_rows: 68980\n",
       "    })\n",
       "    test: Dataset({\n",
       "        features: ['text', 'age', 'gender'],\n",
       "        num_rows: 37919\n",
       "    })\n",
       "})"
      ]
     },
     "execution_count": 33,
     "metadata": {},
     "output_type": "execute_result"
    }
   ],
   "source": [
    "dataset = dataset.filter(lambda example: \n",
    "                         example[\"text\"] is not None and \n",
    "                         example[\"gender\"] is not None and\n",
    "                         example [\"age\"] is not None)\n",
    "dataset"
   ]
  },
  {
   "cell_type": "code",
   "execution_count": 34,
   "id": "e3fa914d-b611-42d5-8e43-5a869a8219a8",
   "metadata": {},
   "outputs": [],
   "source": [
    "from transformers import AutoTokenizer, AutoModel, PreTrainedModel, PretrainedConfig\n",
    "from sklearn.preprocessing import LabelEncoder\n",
    "import torch\n",
    "import torch.nn as nn\n",
    "from torch.nn import CrossEntropyLoss\n",
    "import json\n",
    "from sklearn.preprocessing import LabelEncoder\n",
    "\n",
    "age_encoder = LabelEncoder()\n",
    "age_encoder.fit(df_train[\"age\"].tolist() + df_val[\"age\"].tolist() + df_test[\"age\"].tolist())\n",
    "num_age_labels = len(age_encoder.classes_)\n",
    "\n",
    "def preprocess_function_dict(examples):\n",
    "    tokenized = tokenizer(\n",
    "        examples['text'],\n",
    "        truncation=True,\n",
    "        padding='max_length',\n",
    "        max_length=512\n",
    "    )\n",
    "\n",
    "    age_labels = age_encoder.transform(examples[\"age\"])\n",
    "    gender_labels = [\n",
    "        {\"male\": 0, \"female\": 1}[label] for label in examples[\"gender\"]\n",
    "    ]\n",
    "\n",
    "    return {\n",
    "        \"input_ids\": tokenized[\"input_ids\"],\n",
    "        \"attention_mask\": tokenized[\"attention_mask\"],\n",
    "        \"age_labels\": age_labels,\n",
    "        \"gender_labels\": gender_labels,\n",
    "    }"
   ]
  },
  {
   "cell_type": "code",
   "execution_count": 35,
   "id": "ed3d3872-208a-49f7-afd2-225f636bb525",
   "metadata": {},
   "outputs": [
    {
     "data": {
      "application/vnd.jupyter.widget-view+json": {
       "model_id": "e1b58e1d7bea48978339359ec3563e67",
       "version_major": 2,
       "version_minor": 0
      },
      "text/plain": [
       "Map:   0%|          | 0/620812 [00:00<?, ? examples/s]"
      ]
     },
     "metadata": {},
     "output_type": "display_data"
    },
    {
     "data": {
      "application/vnd.jupyter.widget-view+json": {
       "model_id": "54f9c6527ebf4fdd8e3ef5cb132ebe75",
       "version_major": 2,
       "version_minor": 0
      },
      "text/plain": [
       "Map:   0%|          | 0/68980 [00:00<?, ? examples/s]"
      ]
     },
     "metadata": {},
     "output_type": "display_data"
    },
    {
     "data": {
      "application/vnd.jupyter.widget-view+json": {
       "model_id": "92fd0ab1269a42bca942cab2651b743c",
       "version_major": 2,
       "version_minor": 0
      },
      "text/plain": [
       "Map:   0%|          | 0/37919 [00:00<?, ? examples/s]"
      ]
     },
     "metadata": {},
     "output_type": "display_data"
    }
   ],
   "source": [
    "tokenized_dataset = dataset.map(\n",
    "    preprocess_function_dict,\n",
    "    batched=True,\n",
    "    remove_columns=['text', 'age', 'gender']\n",
    ")"
   ]
  },
  {
   "cell_type": "code",
   "execution_count": 36,
   "id": "0d011ade-7090-40b2-a5af-a1ebda786a33",
   "metadata": {},
   "outputs": [],
   "source": [
    "class JointClassificationConfig(PretrainedConfig):\n",
    "    def __init__(self, num_age_labels=None, num_gender_labels=None, **kwargs):\n",
    "        super().__init__(**kwargs)\n",
    "        self.num_age_labels = num_age_labels\n",
    "        self.num_gender_labels = num_gender_labels"
   ]
  },
  {
   "cell_type": "code",
   "execution_count": 37,
   "id": "c45c6b1c-4976-4168-8441-dfd04fe8c691",
   "metadata": {},
   "outputs": [],
   "source": [
    "class BertForJointClassification(PreTrainedModel):\n",
    "    config_class = JointClassificationConfig\n",
    "    \n",
    "    def __init__(self, config, model):\n",
    "        super().__init__(config)\n",
    "        self.num_age_labels = config.num_age_labels\n",
    "        self.num_gender_labels = config.num_gender_labels\n",
    "        \n",
    "        self.bert = model\n",
    "        self.age_classifier = nn.Linear(config.hidden_size, self.num_age_labels)\n",
    "        self.gender_classifier = nn.Linear(config.hidden_size, self.num_gender_labels)\n",
    "        self.dropout = nn.Dropout(config.hidden_dropout_prob)\n",
    "        \n",
    "        self.age_loss_fct = CrossEntropyLoss()\n",
    "        self.gender_loss_fct = CrossEntropyLoss()\n",
    "        \n",
    "        self.init_weights()\n",
    "    \n",
    "    def forward(\n",
    "        self,\n",
    "        input_ids=None,\n",
    "        attention_mask=None,\n",
    "        token_type_ids=None,\n",
    "        age_labels=None,\n",
    "        gender_labels=None,\n",
    "        **kwargs\n",
    "    ):\n",
    "        # get BERT outputs\n",
    "        outputs = self.bert(\n",
    "            input_ids=input_ids,\n",
    "            attention_mask=attention_mask,\n",
    "            token_type_ids=token_type_ids\n",
    "        )\n",
    "        \n",
    "        # pool outputs to get sequence representation\n",
    "        pooled_output = outputs.pooler_output\n",
    "        pooled_output = self.dropout(pooled_output)\n",
    "        \n",
    "        # get logits for each task\n",
    "        age_logits = self.age_classifier(pooled_output)\n",
    "        gender_logits = self.gender_classifier(pooled_output)\n",
    "        \n",
    "        age_predictions = torch.argmax(age_logits, dim=-1)\n",
    "        gender_predictions = torch.argmax(gender_logits, dim=-1)\n",
    "        output = {\n",
    "            'age_logits': age_logits,\n",
    "            'gender_logits': gender_logits,\n",
    "            'age_predictions': age_predictions,\n",
    "            'gender_predictions': gender_predictions,\n",
    "        }\n",
    "        \n",
    "        # get combined loss\n",
    "        age_loss = self.age_loss_fct(age_logits, age_labels)\n",
    "        gender_loss = self.gender_loss_fct(gender_logits, gender_labels)\n",
    "        total_loss = age_loss + gender_loss # use alpha later\n",
    "        \n",
    "        output.update({\n",
    "            'loss': total_loss,\n",
    "            'age_loss': age_loss,\n",
    "            'gender_loss': gender_loss\n",
    "        })\n",
    "        return output"
   ]
  },
  {
   "cell_type": "code",
   "execution_count": 38,
   "id": "b31c1b07-691a-457b-88f2-59b2d4439839",
   "metadata": {},
   "outputs": [],
   "source": [
    "def setup_dict_model(dataset, model_name=\"bert-base-uncased\"):\n",
    "    config = JointClassificationConfig(\n",
    "        name_or_path=model_name,\n",
    "        num_age_labels=num_age_labels,\n",
    "        num_gender_labels=2,\n",
    "        hidden_size=768,\n",
    "        hidden_dropout_prob=0.1\n",
    "    )\n",
    "    bert = BertForJointClassification(config, foundation_model)\n",
    "    peft_model = get_peft_model(bert, lora_config)\n",
    "    return peft_model, config"
   ]
  },
  {
   "cell_type": "code",
   "execution_count": 42,
   "id": "b368fe62-6d89-4166-ae23-ccc138b9418c",
   "metadata": {},
   "outputs": [
    {
     "data": {
      "text/plain": [
       "BertForJointClassification(\n",
       "  (bert): BertModel(\n",
       "    (embeddings): BertEmbeddings(\n",
       "      (word_embeddings): Embedding(30522, 768, padding_idx=0)\n",
       "      (position_embeddings): Embedding(512, 768)\n",
       "      (token_type_embeddings): Embedding(2, 768)\n",
       "      (LayerNorm): LayerNorm((768,), eps=1e-12, elementwise_affine=True)\n",
       "      (dropout): Dropout(p=0.1, inplace=False)\n",
       "    )\n",
       "    (encoder): BertEncoder(\n",
       "      (layer): ModuleList(\n",
       "        (0-11): 12 x BertLayer(\n",
       "          (attention): BertAttention(\n",
       "            (self): BertSdpaSelfAttention(\n",
       "              (query): Linear(in_features=768, out_features=768, bias=True)\n",
       "              (key): Linear(in_features=768, out_features=768, bias=True)\n",
       "              (value): Linear(in_features=768, out_features=768, bias=True)\n",
       "              (dropout): Dropout(p=0.1, inplace=False)\n",
       "            )\n",
       "            (output): BertSelfOutput(\n",
       "              (dense): Linear(in_features=768, out_features=768, bias=True)\n",
       "              (LayerNorm): LayerNorm((768,), eps=1e-12, elementwise_affine=True)\n",
       "              (dropout): Dropout(p=0.1, inplace=False)\n",
       "            )\n",
       "          )\n",
       "          (intermediate): BertIntermediate(\n",
       "            (dense): Linear(in_features=768, out_features=3072, bias=True)\n",
       "            (intermediate_act_fn): GELUActivation()\n",
       "          )\n",
       "          (output): BertOutput(\n",
       "            (dense): Linear(in_features=3072, out_features=768, bias=True)\n",
       "            (LayerNorm): LayerNorm((768,), eps=1e-12, elementwise_affine=True)\n",
       "            (dropout): Dropout(p=0.1, inplace=False)\n",
       "          )\n",
       "        )\n",
       "      )\n",
       "    )\n",
       "    (pooler): BertPooler(\n",
       "      (dense): Linear(in_features=768, out_features=768, bias=True)\n",
       "      (activation): Tanh()\n",
       "    )\n",
       "  )\n",
       "  (age_classifier): Linear(in_features=768, out_features=26, bias=True)\n",
       "  (gender_classifier): Linear(in_features=768, out_features=2, bias=True)\n",
       "  (dropout): Dropout(p=0.1, inplace=False)\n",
       "  (age_loss_fct): CrossEntropyLoss()\n",
       "  (gender_loss_fct): CrossEntropyLoss()\n",
       ")"
      ]
     },
     "execution_count": 42,
     "metadata": {},
     "output_type": "execute_result"
    }
   ],
   "source": [
    "# optional\n",
    "peft_model.unload()"
   ]
  },
  {
   "cell_type": "code",
   "execution_count": 43,
   "id": "8685989c-03f1-4fac-b453-3642d256707b",
   "metadata": {},
   "outputs": [],
   "source": [
    "peft_model, config = setup_dict_model(dataset)"
   ]
  },
  {
   "cell_type": "code",
   "execution_count": 44,
   "id": "bca6fa20-5e11-476f-ab54-6b65f9bbbd4a",
   "metadata": {},
   "outputs": [],
   "source": [
    "# custom trainer\n",
    "from transformers import Trainer\n",
    "\n",
    "class JointClassificationTrainer(Trainer):\n",
    "    def compute_loss(self, model, inputs, return_outputs=False, **kwargs):\n",
    "        outputs = model(**inputs)\n",
    "        loss = outputs.get('loss') # get the total loss from our output dict\n",
    "        return (loss, outputs) if return_outputs else loss"
   ]
  },
  {
   "cell_type": "code",
   "execution_count": 49,
   "id": "19fcce74-55d9-4739-8a7a-5f5d81b9e589",
   "metadata": {},
   "outputs": [
    {
     "name": "stdout",
     "output_type": "stream",
     "text": [
      "trainable params: 187,420 || all params: 109,672,760 || trainable%: 0.1709\n",
      "None\n"
     ]
    }
   ],
   "source": [
    "from transformers import TrainingArguments, default_data_collator\n",
    "\n",
    "print(peft_model.print_trainable_parameters())\n",
    "\n",
    "training_args = TrainingArguments(\n",
    "    \"bert-lora-for-author-profiling\",\n",
    "    learning_rate=3e-2,\n",
    "    report_to=\"wandb\"\n",
    ")\n",
    "\n",
    "trainer = JointClassificationTrainer(\n",
    "    model=peft_model,\n",
    "    args=training_args,\n",
    "    train_dataset=tokenized_dataset['train'],\n",
    "    eval_dataset=tokenized_dataset['validation'],\n",
    "    data_collator=default_data_collator\n",
    ")"
   ]
  },
  {
   "cell_type": "code",
   "execution_count": null,
   "id": "4e83e7b2-6915-4b4b-8dfa-8bd23e360e1b",
   "metadata": {
    "scrolled": true
   },
   "outputs": [
    {
     "name": "stderr",
     "output_type": "stream",
     "text": [
      "\u001b[34m\u001b[1mwandb\u001b[0m: \u001b[32m\u001b[41mERROR\u001b[0m Failed to detect the name of this notebook. You can set it manually with the WANDB_NOTEBOOK_NAME environment variable to enable code saving.\n",
      "\u001b[34m\u001b[1mwandb\u001b[0m: Logging into wandb.ai. (Learn how to deploy a W&B server locally: https://wandb.me/wandb-server)\n",
      "\u001b[34m\u001b[1mwandb\u001b[0m: You can find your API key in your browser here: https://wandb.ai/authorize?ref=models\n",
      "\u001b[34m\u001b[1mwandb\u001b[0m: Paste an API key from your profile and hit enter:"
     ]
    },
    {
     "name": "stdin",
     "output_type": "stream",
     "text": [
      "  ········\n"
     ]
    },
    {
     "name": "stderr",
     "output_type": "stream",
     "text": [
      "\u001b[34m\u001b[1mwandb\u001b[0m: \u001b[33mWARNING\u001b[0m If you're specifying your api key in code, ensure this code is not shared publicly.\n",
      "\u001b[34m\u001b[1mwandb\u001b[0m: \u001b[33mWARNING\u001b[0m Consider setting the WANDB_API_KEY environment variable, or running `wandb login` from the command line.\n",
      "\u001b[34m\u001b[1mwandb\u001b[0m: No netrc file found, creating one.\n",
      "\u001b[34m\u001b[1mwandb\u001b[0m: Appending key for api.wandb.ai to your netrc file: /home/jovyan/.netrc\n",
      "\u001b[34m\u001b[1mwandb\u001b[0m: Currently logged in as: \u001b[33mkonrad-brg\u001b[0m (\u001b[33mkonrad-brg-university-of-t-bingen\u001b[0m) to \u001b[32mhttps://api.wandb.ai\u001b[0m. Use \u001b[1m`wandb login --relogin`\u001b[0m to force relogin\n"
     ]
    },
    {
     "data": {
      "text/html": [
       "Tracking run with wandb version 0.21.1"
      ],
      "text/plain": [
       "<IPython.core.display.HTML object>"
      ]
     },
     "metadata": {},
     "output_type": "display_data"
    },
    {
     "data": {
      "text/html": [
       "Run data is saved locally in <code>/home/jovyan/work/ULM-25-authorship-profiling/src/wandb/run-20250824_122438-jnkk36rd</code>"
      ],
      "text/plain": [
       "<IPython.core.display.HTML object>"
      ]
     },
     "metadata": {},
     "output_type": "display_data"
    },
    {
     "data": {
      "text/html": [
       "Syncing run <strong><a href='https://wandb.ai/konrad-brg-university-of-t-bingen/huggingface/runs/jnkk36rd' target=\"_blank\">woven-pine-19</a></strong> to <a href='https://wandb.ai/konrad-brg-university-of-t-bingen/huggingface' target=\"_blank\">Weights & Biases</a> (<a href='https://wandb.me/developer-guide' target=\"_blank\">docs</a>)<br>"
      ],
      "text/plain": [
       "<IPython.core.display.HTML object>"
      ]
     },
     "metadata": {},
     "output_type": "display_data"
    },
    {
     "data": {
      "text/html": [
       " View project at <a href='https://wandb.ai/konrad-brg-university-of-t-bingen/huggingface' target=\"_blank\">https://wandb.ai/konrad-brg-university-of-t-bingen/huggingface</a>"
      ],
      "text/plain": [
       "<IPython.core.display.HTML object>"
      ]
     },
     "metadata": {},
     "output_type": "display_data"
    },
    {
     "data": {
      "text/html": [
       " View run at <a href='https://wandb.ai/konrad-brg-university-of-t-bingen/huggingface/runs/jnkk36rd' target=\"_blank\">https://wandb.ai/konrad-brg-university-of-t-bingen/huggingface/runs/jnkk36rd</a>"
      ],
      "text/plain": [
       "<IPython.core.display.HTML object>"
      ]
     },
     "metadata": {},
     "output_type": "display_data"
    },
    {
     "data": {
      "text/html": [
       "\n",
       "    <div>\n",
       "      \n",
       "      <progress value='4829' max='232806' style='width:300px; height:20px; vertical-align: middle;'></progress>\n",
       "      [  4829/232806 06:16 < 4:56:36, 12.81 it/s, Epoch 0.06/3]\n",
       "    </div>\n",
       "    <table border=\"1\" class=\"dataframe\">\n",
       "  <thead>\n",
       " <tr style=\"text-align: left;\">\n",
       "      <th>Step</th>\n",
       "      <th>Training Loss</th>\n",
       "    </tr>\n",
       "  </thead>\n",
       "  <tbody>\n",
       "    <tr>\n",
       "      <td>500</td>\n",
       "      <td>5.393400</td>\n",
       "    </tr>\n",
       "    <tr>\n",
       "      <td>1000</td>\n",
       "      <td>5.775700</td>\n",
       "    </tr>\n",
       "    <tr>\n",
       "      <td>1500</td>\n",
       "      <td>6.391000</td>\n",
       "    </tr>\n",
       "    <tr>\n",
       "      <td>2000</td>\n",
       "      <td>6.862200</td>\n",
       "    </tr>\n",
       "    <tr>\n",
       "      <td>2500</td>\n",
       "      <td>10.651500</td>\n",
       "    </tr>\n",
       "    <tr>\n",
       "      <td>3000</td>\n",
       "      <td>13.392100</td>\n",
       "    </tr>\n",
       "    <tr>\n",
       "      <td>3500</td>\n",
       "      <td>15.770200</td>\n",
       "    </tr>\n",
       "    <tr>\n",
       "      <td>4000</td>\n",
       "      <td>10.772400</td>\n",
       "    </tr>\n",
       "    <tr>\n",
       "      <td>4500</td>\n",
       "      <td>11.101400</td>\n",
       "    </tr>\n",
       "  </tbody>\n",
       "</table><p>"
      ],
      "text/plain": [
       "<IPython.core.display.HTML object>"
      ]
     },
     "metadata": {},
     "output_type": "display_data"
    }
   ],
   "source": [
    "trainer.train()"
   ]
  },
  {
   "cell_type": "code",
   "execution_count": null,
   "id": "8bf208b9-6145-42d8-9540-52fb7c99f3b0",
   "metadata": {},
   "outputs": [],
   "source": []
  }
 ],
 "metadata": {
  "kernelspec": {
   "display_name": "Python 3 (ipykernel)",
   "language": "python",
   "name": "python3"
  },
  "language_info": {
   "codemirror_mode": {
    "name": "ipython",
    "version": 3
   },
   "file_extension": ".py",
   "mimetype": "text/x-python",
   "name": "python",
   "nbconvert_exporter": "python",
   "pygments_lexer": "ipython3",
   "version": "3.12.9"
  }
 },
 "nbformat": 4,
 "nbformat_minor": 5
}
