{
 "cells": [
  {
   "cell_type": "code",
   "execution_count": null,
   "id": "a8b8f736",
   "metadata": {},
   "outputs": [],
   "source": [
    "import torch\n",
    "from transformers import AutoTokenizer, AutoModel\n",
    "import numpy as np\n",
    "import pandas as pd\n",
    "from sklearn.linear_model import LogisticRegression\n",
    "from sklearn.metrics import accuracy_score"
   ]
  },
  {
   "cell_type": "code",
   "execution_count": null,
   "id": "c9731f7d",
   "metadata": {},
   "outputs": [],
   "source": [
    "if torch.cuda.is_available():\n",
    "    device = torch.device('cuda')\n",
    "elif torch.backends.mps.is_available():\n",
    "    device = torch.device(\"mps\")\n",
    "else:\n",
    "    device = torch.device('cpu')"
   ]
  },
  {
   "cell_type": "code",
   "execution_count": null,
   "id": "09168d50",
   "metadata": {},
   "outputs": [],
   "source": [
    "#get data (put files into colab folder)\n",
    "\n",
    "# load splits\n",
    "train_df = pd.read_csv(\"data_train.csv\")\n",
    "val_df   = pd.read_csv(\"data_val.csv\")\n",
    "test_df  = pd.read_csv(\"data_test.csv\")\n",
    "\n",
    "print(train_df.head())"
   ]
  },
  {
   "cell_type": "code",
   "execution_count": null,
   "id": "f2e9de69",
   "metadata": {},
   "outputs": [],
   "source": [
    "print(f\"Train instances: {train_df.shape[0]}\")\n",
    "print(f\"Val instances: {val_df.shape[0]}\")\n",
    "print(f\"Test instances: {test_df.shape[0]}\")"
   ]
  },
  {
   "cell_type": "code",
   "execution_count": null,
   "id": "074ad481",
   "metadata": {},
   "outputs": [],
   "source": [
    "#load pretrained BERT\n",
    "model_name = \"bert-base-uncased\"\n",
    "tokenizer = AutoTokenizer.from_pretrained(model_name)\n",
    "model = AutoModel.from_pretrained(model_name, output_hidden_states=True).to(device)\n",
    "model.eval()"
   ]
  },
  {
   "cell_type": "code",
   "execution_count": null,
   "id": "0b98b133",
   "metadata": {},
   "outputs": [],
   "source": [
    "#helper function\n",
    "def get_layer(split, idx):\n",
    "  \"\"\"Get the layer at idx in the given split (test/val/train)\"\"\"\n",
    "  data = np.load(f\"{split}_layers.npz\")\n",
    "  return data[f\"layer{idx}\"]"
   ]
  },
  {
   "cell_type": "code",
   "execution_count": null,
   "id": "02523c7e",
   "metadata": {},
   "outputs": [],
   "source": [
    "#define probing function\n",
    "def train_probe(X_train, y_train, X_val, y_val):\n",
    "    clf = LogisticRegression(max_iter=5000, class_weight=\"balanced\", multi_class=\"auto\")\n",
    "    clf.fit(X_train, y_train)\n",
    "    y_pred = clf.predict(X_val)\n",
    "    return accuracy_score(y_val, y_pred), clf"
   ]
  },
  {
   "cell_type": "code",
   "execution_count": null,
   "id": "ae0cb456",
   "metadata": {},
   "outputs": [],
   "source": [
    "#taking the first 1000 instances\n",
    "#texts\n",
    "train_subset = train_df[\"text\"].tolist()[:1000]\n",
    "val_subset = val_df[\"text\"].tolist()[:1000]\n",
    "\n",
    "#train: gender age age\n",
    "y_train_subset_gender = train_df[\"gender\"].values[:1000]\n",
    "y_train_subset_age    = train_df[\"age\"].values[:1000]\n",
    "\n",
    "#val: gender and age\n",
    "y_val_subset_gender = train_df[\"gender\"].values[:1000]\n",
    "y_val_subset_age    = train_df[\"age\"].values[:1000]"
   ]
  },
  {
   "cell_type": "code",
   "execution_count": null,
   "id": "7ea33906",
   "metadata": {},
   "outputs": [],
   "source": [
    "#run probes for gender:\n",
    "results_subset_gender = []\n",
    "for layer_idx in range(13):\n",
    "    acc, _ = train_probe(\n",
    "        get_layer(\"train_subset\", layer_idx), y_train_subset_gender,\n",
    "        get_layer(\"val_subset\", layer_idx), y_val_subset_gender\n",
    "    )\n",
    "    results_subset_gender.append(acc)\n",
    "    print(f\"[Gender] Layer {layer_idx}: probe accuracy = {acc:.3f}\")"
   ]
  },
  {
   "cell_type": "code",
   "execution_count": null,
   "id": "415209c3",
   "metadata": {},
   "outputs": [],
   "source": [
    "results_subset_age = []\n",
    "for layer_idx in range(13):\n",
    "    acc, _ = train_probe(\n",
    "        get_layer(\"train_subset\", layer_idx), y_train_subset_age,\n",
    "        get_layer(\"val_subset\", layer_idx), y_train_subset_age\n",
    "    )\n",
    "    results_subset_age.append(acc)\n",
    "    print(f\"[Age] Layer {layer_idx}: probe accuracy = {acc:.3f}\")"
   ]
  },
  {
   "cell_type": "code",
   "execution_count": null,
   "id": "e57b7a64",
   "metadata": {},
   "outputs": [],
   "source": [
    "import matplotlib.pyplot as plt\n",
    "\n",
    "plt.plot(range(13), results_subset_gender, marker=\"o\", label=\"Gender\")\n",
    "plt.plot(range(13), results_subset_age, marker=\"s\", label=\"Age\")\n",
    "plt.xlabel(\"Layer\")\n",
    "plt.ylabel(\"Probe Accuracy\")\n",
    "plt.title(\"Probing Pretrained BERT for Gender vs Age\")\n",
    "plt.legend()\n",
    "plt.show()"
   ]
  }
 ],
 "metadata": {
  "language_info": {
   "name": "python"
  }
 },
 "nbformat": 4,
 "nbformat_minor": 5
}
