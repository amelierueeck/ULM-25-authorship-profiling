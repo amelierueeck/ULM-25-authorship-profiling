{
  "nbformat": 4,
  "nbformat_minor": 0,
  "metadata": {
    "colab": {
      "provenance": [],
      "authorship_tag": "ABX9TyNiGnMK5ItSfd7sv47xlgJi",
      "include_colab_link": true
    },
    "kernelspec": {
      "name": "python3",
      "display_name": "Python 3"
    },
    "language_info": {
      "name": "python"
    }
  },
  "cells": [
    {
      "cell_type": "markdown",
      "metadata": {
        "id": "view-in-github",
        "colab_type": "text"
      },
      "source": [
        "<a href=\"https://colab.research.google.com/github/amelierueeck/ULM-25-authorship-profiling/blob/main/src/BERT_probing.ipynb\" target=\"_parent\"><img src=\"https://colab.research.google.com/assets/colab-badge.svg\" alt=\"Open In Colab\"/></a>"
      ]
    },
    {
      "cell_type": "markdown",
      "source": [
        "Code from Polina"
      ],
      "metadata": {
        "id": "jLc8se4Uo3Ie"
      }
    },
    {
      "cell_type": "code",
      "execution_count": null,
      "metadata": {
        "id": "rBhWmX0zniDk"
      },
      "outputs": [],
      "source": [
        "# !pip install spacy ftfy==4.4.3\n",
        "# !python -m spacy download en"
      ]
    },
    {
      "cell_type": "code",
      "source": [
        "import torch\n",
        "from transformers import BertTokenizer, BertModel\n",
        "import numpy as np\n",
        "import sys\n",
        "import os"
      ],
      "metadata": {
        "id": "_NJEKAKGqRiu"
      },
      "execution_count": null,
      "outputs": []
    },
    {
      "cell_type": "code",
      "source": [
        "if torch.cuda.is_available():\n",
        "    device = torch.device('cuda')\n",
        "elif torch.backends.mps.is_available():\n",
        "    device = torch.device(\"mps\")\n",
        "else:\n",
        "    device = torch.device('cpu')"
      ],
      "metadata": {
        "id": "-VqawNjaqTZi"
      },
      "execution_count": null,
      "outputs": []
    },
    {
      "cell_type": "markdown",
      "source": [
        "[more here - in Polina's notebook: getting the model and the tokenizer, getting sentence representations, getting data]"
      ],
      "metadata": {
        "id": "i7LnkfTYqgEB"
      }
    },
    {
      "cell_type": "markdown",
      "source": [
        "**Simple linear classifier**"
      ],
      "metadata": {
        "id": "_wb1wBF2qwQG"
      }
    },
    {
      "cell_type": "code",
      "source": [
        "class Classifier(torch.nn.Module):\n",
        "\n",
        "  def __init__(self, input_dim, output_dim):\n",
        "    super(Classifier, self).__init__()\n",
        "    self.linear = totch.nn.Linear(input_dim, output_dim)\n",
        "\n",
        "  def forward(self, input):\n",
        "    return self.linear(input)\n",
        "\n",
        "def build_classifier(emb_dim, num_labels, device):\n",
        "  classifier = Classifier(emb_dim, num_lables).to(device)\n",
        "  criterion = torch.nn.CrossEntropyLoss().to(device)\n",
        "  optimizer = torch.optim.Adam(classifier.paramters())\n",
        "\n",
        "  return classifier, criterion, optimizer"
      ],
      "metadata": {
        "id": "YkrHJjkTqUzq"
      },
      "execution_count": null,
      "outputs": []
    }
  ]
}